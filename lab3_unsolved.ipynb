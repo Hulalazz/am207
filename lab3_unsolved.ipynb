{
 "cells": [
  {
   "cell_type": "markdown",
   "metadata": {},
   "source": [
    "# Lab  3 - Implementing Logistic Regression with Gradient Descent using Theano\n",
    "\n",
    "## Learning Aims\n",
    "\n",
    "- Using Theano\n",
    "- Logistic regression\n",
    "- Supervised learning\n",
    "- Automatic differentiation\n",
    "- Gradient descent\n",
    "$\\newcommand{\\Ex}{\\mathbb{E}}$\n",
    "$\\newcommand{\\Var}{\\mathrm{Var}}$\n",
    "$\\newcommand{\\Cov}{\\mathrm{Cov}}$\n",
    "$\\newcommand{\\SampleAvg}{\\frac{1}{N({S})} \\sum_{s \\in {S}}}$\n",
    "$\\newcommand{\\indic}{\\mathbb{1}}$\n",
    "$\\newcommand{\\avg}{\\overline}$\n",
    "$\\newcommand{\\est}{\\hat}$\n",
    "$\\newcommand{\\trueval}[1]{#1^{*}}$\n",
    "$\\newcommand{\\Gam}[1]{\\mathrm{Gamma}#1}$\n",
    "\n",
    "## Installing Theano\n",
    "\n",
    "We shall be using Theano 0.6 in this course:\n",
    "http://deeplearning.net/software/theano/index.html\n",
    "\n",
    "### Installation\n",
    "\n",
    "In Anaconda:\n",
    "\n",
    "$ pip install Theano\n",
    "\n",
    "If you are not using Anaconda, additional installation instructions can be found here:\n",
    "\n",
    "http://deeplearning.net/software/theano/install.html\n",
    "\n",
    "### Theano at a glance\n",
    "\n",
    "Theano is a Python library that lets you to define, optimize, and evaluate mathematical expressions, especially ones with multi-dimensional arrays. Some of its advantages over other libraries, such as numpy are:\n",
    "\n",
    "- Execution speed optimizations: Theano can use g++ or nvcc to compile parts your expression graph into CPU or GPU instructions, which run much faster than pure Python.\n",
    "- Symbolic differentiation: Theano can automatically build symbolic graphs for computing gradients."
   ]
  },
  {
   "cell_type": "markdown",
   "metadata": {},
   "source": [
    "## Working with Theano\n",
    "One powerful feature of Theano is that once you define symbolic variables, you can write expressions for those variables and convert these expressions into callable objects that can evaluate the expression for any value of the variables:"
   ]
  },
  {
   "cell_type": "code",
   "execution_count": 1,
   "metadata": {
    "collapsed": false
   },
   "outputs": [
    {
     "data": {
      "text/plain": [
       "array(5.8)"
      ]
     },
     "execution_count": 1,
     "metadata": {},
     "output_type": "execute_result"
    }
   ],
   "source": [
    "import theano\n",
    "from theano import *\n",
    "import theano.tensor as T\n",
    "# Many of the types and symbols that we use are within the Theano subpackage theno.tensor.\n",
    "\n",
    "# declare two symbolic floating-point scalars\n",
    "a = T.dscalar('a')\n",
    "b = T.dscalar('b')\n",
    "\n",
    "# create a simple expression\n",
    "c = a + b\n",
    "\n",
    "# convert the expression into a callable object that takes (a,b)\n",
    "# values as input and computes a value for c\n",
    "f = function([a,b], c)\n",
    "# Behind the scenes, when you call theano.function, f is compiled into C code.\n",
    "\n",
    "# bind 1.5 to 'a', 2.5 to 'b', and evaluate 'c'\n",
    "f(1.3,4.5)"
   ]
  },
  {
   "cell_type": "markdown",
   "metadata": {},
   "source": [
    "The same can be do with vectors or matrices:"
   ]
  },
  {
   "cell_type": "code",
   "execution_count": 5,
   "metadata": {
    "collapsed": false
   },
   "outputs": [
    {
     "data": {
      "text/plain": [
       "array([[ 11.,  22.],\n",
       "       [ 33.,  44.]])"
      ]
     },
     "execution_count": 5,
     "metadata": {},
     "output_type": "execute_result"
    }
   ],
   "source": [
    "# declare two symbolic floating-point matrices\n",
    "x = T.dmatrix('y')\n",
    "y = T.dmatrix('y')\n",
    "\n",
    "# expression\n",
    "z = x + y\n",
    "\n",
    "# convert into callable\n",
    "f = function([x,y], z)\n",
    "\n",
    "# Evaluate\n",
    "f([[1, 2], [3, 4]], [[10, 20], [30, 40]])"
   ]
  },
  {
   "cell_type": "markdown",
   "metadata": {},
   "source": [
    "There are other available Theano types, and all of them we can preform similar operations.\n",
    "    \n",
    "- byte: bscalar, bvector, bmatrix, brow, bcol, btensor3, btensor4\n",
    "- 16-bit integers: wscalar, wvector, wmatrix, wrow, wcol, wtensor3, wtensor4\n",
    "- 32-bit integers: iscalar, ivector, imatrix, irow, icol, itensor3, itensor4\n",
    "- 64-bit integers: lscalar, lvector, lmatrix, lrow, lcol, ltensor3, ltensor4\n",
    "- nfloat: fscalar, fvector, fmatrix, frow, fcol, ftensor3, ftensor4\n",
    "- double: dscalar, dvector, dmatrix, drow, dcol, dtensor3, dtensor4\n",
    "- complex: cscalar, cvector, cmatrix, crow, ccol, ctensor3, ctensor4"
   ]
  },
  {
   "cell_type": "markdown",
   "metadata": {},
   "source": [
    "### Logistic function\n",
    "Now suppose we want to evaluate the logistic function on a matrix, on an element-wise basis. The one-dimensional logistic curve is given by:\n",
    "\n",
    "$$s(x) = \\frac{1}{1 + e^{-x}}$$\n",
    "\n",
    "We can build a Theano graph that represents the logistic function, and then evaluate it in a 2x2 matrix as follows:"
   ]
  },
  {
   "cell_type": "code",
   "execution_count": 6,
   "metadata": {
    "collapsed": false
   },
   "outputs": [
    {
     "data": {
      "text/plain": [
       "array([[ 0.5       ,  0.73105858],\n",
       "       [ 0.26894142,  0.11920292]])"
      ]
     },
     "execution_count": 6,
     "metadata": {},
     "output_type": "execute_result"
    }
   ],
   "source": [
    "x = T.dmatrix('x')\n",
    "s = 1 / (1 + T.exp(-x))\n",
    "logistic = function([x], s)\n",
    "logistic([[0, 1], [-1, -2]])"
   ]
  },
  {
   "cell_type": "markdown",
   "metadata": {},
   "source": [
    "We can also avaluate it on a vector and plot it:"
   ]
  },
  {
   "cell_type": "code",
   "execution_count": 7,
   "metadata": {
    "collapsed": false
   },
   "outputs": [
    {
     "name": "stdout",
     "output_type": "stream",
     "text": [
      "Populating the interactive namespace from numpy and matplotlib\n"
     ]
    },
    {
     "name": "stderr",
     "output_type": "stream",
     "text": [
      "//anaconda/envs/python3/lib/python3.6/site-packages/IPython/core/magics/pylab.py:161: UserWarning: pylab import has clobbered these variables: ['generic', 'test', 'logistic', 'f', 'dot', 'gradient']\n",
      "`%matplotlib` prevents importing * from pylab and numpy\n",
      "  \"\\n`%matplotlib` prevents importing * from pylab and numpy\"\n"
     ]
    },
    {
     "data": {
      "text/plain": [
       "[<matplotlib.lines.Line2D at 0x10be77cc0>]"
      ]
     },
     "execution_count": 7,
     "metadata": {},
     "output_type": "execute_result"
    },
    {
     "data": {
      "image/png": "[encoded data removed]",
      "text/plain": [
       "<matplotlib.figure.Figure at 0x10bdc54a8>"
      ]
     },
     "metadata": {},
     "output_type": "display_data"
    }
   ],
   "source": [
    "%pylab inline\n",
    "import matplotlib.pyplot as plt\n",
    "\n",
    "x = T.dvector('x')\n",
    "s = 1 / (1 + T.exp(-x))\n",
    "logistic = function([x], s)\n",
    "\n",
    "# Build a numpy vector for the support of the function\n",
    "x_eval = np.linspace(-6,6,1000)\n",
    "\n",
    "# Evaluate the function. Note that Thenao understands numpy arrays.\n",
    "y = logistic(x_eval)\n",
    "\n",
    "# Plot\n",
    "plt.plot(x_eval,y)"
   ]
  },
  {
   "cell_type": "markdown",
   "metadata": {},
   "source": [
    "### Shared variables\n",
    "Shared variables are hybrid symbolic and non-symbolic variables whose value may be shared between multiple functions. They are symbolic because they can be used just as the elements returned by `dvectors` or `dmatrices`, but they also adopt an internal value that defines the value the symbolci variable will have in all functions that share it. As we will see, shared values are useful when performing training in supervised learning algorithms, because we want these values to remain around across many executions of a Theano training or testing function. Often, the purpose of a Theano training function is to update the weights stored in a shared variable. And a testing function needs the current weights to perform the network's forward pass. A good example of how to use shared variables is by building an accumulator function:"
   ]
  },
  {
   "cell_type": "code",
   "execution_count": 7,
   "metadata": {
    "collapsed": true
   },
   "outputs": [],
   "source": [
    "from theano import shared\n",
    "\n",
    "# We create a shared valuable and initiazlize it with value 0.\n",
    "state = shared(0)\n",
    "\n",
    "# Define a scalar variable with the increment\n",
    "inc = T.iscalar('inc')\n",
    "\n",
    "# Everytime the function is executed, our shared valuable is updated and returns old value\n",
    "accumulator = function([inc], state, updates=[(state, state+inc)])"
   ]
  },
  {
   "cell_type": "code",
   "execution_count": 8,
   "metadata": {
    "collapsed": false
   },
   "outputs": [
    {
     "name": "stdout",
     "output_type": "stream",
     "text": [
      "0\n"
     ]
    },
    {
     "data": {
      "text/plain": [
       "array(0)"
      ]
     },
     "execution_count": 8,
     "metadata": {},
     "output_type": "execute_result"
    }
   ],
   "source": [
    "# Let us run it:\n",
    "print(state.get_value())\n",
    "accumulator(1)\n",
    "# get_value extracts the current value of the shared variable.\n",
    "# you can also reset this value with set_value"
   ]
  },
  {
   "cell_type": "code",
   "execution_count": 9,
   "metadata": {
    "collapsed": false
   },
   "outputs": [
    {
     "name": "stdout",
     "output_type": "stream",
     "text": [
      "1\n"
     ]
    },
    {
     "data": {
      "text/plain": [
       "array(1)"
      ]
     },
     "execution_count": 9,
     "metadata": {},
     "output_type": "execute_result"
    }
   ],
   "source": [
    "print(state.get_value())\n",
    "accumulator(300)"
   ]
  },
  {
   "cell_type": "code",
   "execution_count": 10,
   "metadata": {
    "collapsed": false
   },
   "outputs": [
    {
     "name": "stdout",
     "output_type": "stream",
     "text": [
      "301\n"
     ]
    },
    {
     "data": {
      "text/plain": [
       "array(301)"
      ]
     },
     "execution_count": 10,
     "metadata": {},
     "output_type": "execute_result"
    }
   ],
   "source": [
    "print(state.get_value())\n",
    "accumulator(300)"
   ]
  },
  {
   "cell_type": "markdown",
   "metadata": {},
   "source": [
    "## Differentiation in Theano\n",
    "One reason why Theano is so powerful is because it uses Automatic Differentiation (autdiff) in order to compute gradients. Autdiff is a set of techniques to numerically evaluate the derivative of a function defined by a computer program. This implies that Theano can compute the derivative of any function for which you can write code (not only for parametric functions, but also data strcutures). Autdiff is different from numerical differentiation (which uses finite differences) and also from symbolic differentiation (which is a way to write new computer expressions for the derivative of a given function). Both numerical and symbolic differentiation can be very inefficient when calculating partial derivatives with respect to many inputs. Autdiffs solves for these problems.\n",
    "\n",
    "At the core of autdiff is the concept of dual numbers. We can extend any natural number to a dual number:\n",
    "\n",
    "$$x \\rightarrow x + \\epsilon x'$$\n",
    "\n",
    "$\\epsilon$ is just a symbol that distinguishes the second component, and we define its arithmetic as: $\\epsilon^2 = 0$. With this, it is easy to see that:\n",
    "\n",
    "$$(x + \\epsilon x') + (y + \\epsilon y') = x + y + \\epsilon(x' + y')$$\n",
    "$$(x + \\epsilon x')(y + \\epsilon y') = xy + \\epsilon(xy' + x'y)$$\n",
    "$$\\frac{1}{x+\\epsilon x'} = \\frac{1}{x}-\\epsilon\\frac{x'}{x^2}$$\n",
    "\n",
    "We can then apply these rules to a polinomial:\n",
    "\n",
    "$$p(x) = p_0 + p_1x + p_2x^2 + ... + p_nx^n$$\n",
    "\n",
    "to obtain:\n",
    "\n",
    "$$\n",
    "\\begin{equation}\n",
    "\\begin{aligned}\n",
    "p(x + \\epsilon x') & = p_0 + p_1(x + \\epsilon x' ) + ... + p_n(x + \\epsilon x')^n \\\\\n",
    "                   & = p_0 + p_1x + p_2x^2 + ... + p_nx^n \\\\\n",
    "                   &   \\, \\, \\, \\, + \\epsilon p_1x + 2\\epsilon p_2 xx' + ... + n\\epsilon p_nx^{n−1}x' \\\\\n",
    "                   & = P(x) + \\epsilon P'(x)x' \\\\\n",
    "\\end{aligned}\n",
    "\\end{equation}\n",
    "$$\n",
    "\n",
    "We are free to choose $x' = 1$ and then **a function applied to a dual number returns its derivative in the second dual component**. Dual numbers are data structures that allow us to carry the derivatives around without too much additional computation or errors. Theano profits from autdiff to compute complicated gradients in many dimensions using `T.grad`."
   ]
  },
  {
   "cell_type": "markdown",
   "metadata": {},
   "source": [
    "### Derivative of the logistic function\n",
    "We can also compute the gradient of complex expressions such as the logistic function defined above. It turns out that the derivative of the logistic is: $ds(x)/dx = s(x) \\cdot (1 - s(x))$. But we do not even need to know its symbolic expression to evaluate it at a given point:"
   ]
  },
  {
   "cell_type": "code",
   "execution_count": 10,
   "metadata": {
    "collapsed": false
   },
   "outputs": [
    {
     "data": {
      "text/plain": [
       "array([[ 0.25      ,  0.19661193],\n",
       "       [ 0.19661193,  0.10499359]])"
      ]
     },
     "execution_count": 10,
     "metadata": {},
     "output_type": "execute_result"
    }
   ],
   "source": [
    "# Create a Theno graph that computes the logistic function, \n",
    "# and plot the derivtaive for the range x in [-6,6]\n",
    "x = T.dmatrix('x')\n",
    "s = T.sum(1/(1+ T.exp(-x)))\n",
    "gs = T.grad(s, x)\n",
    "\n",
    "# create the callable function \n",
    "dlogistic = theano.function([x], gs)\n",
    "dlogistic([[0,1],[-1,-2]])"
   ]
  },
  {
   "cell_type": "code",
   "execution_count": 11,
   "metadata": {
    "collapsed": false
   },
   "outputs": [
    {
     "data": {
      "text/plain": [
       "[<matplotlib.lines.Line2D at 0x10c075b38>]"
      ]
     },
     "execution_count": 11,
     "metadata": {},
     "output_type": "execute_result"
    },
    {
     "data": {
      "image/png": "[encoded data removed]",
      "text/plain": [
       "<matplotlib.figure.Figure at 0x10c016278>"
      ]
     },
     "metadata": {},
     "output_type": "display_data"
    }
   ],
   "source": [
    "x = T.dvector('x')\n",
    "s = T.sum(1/(1+ T.exp(-x)))\n",
    "gs = T.grad(s, x)\n",
    "dlogistic = theano.function([x], gs)\n",
    "x_eval = np.linspace(-6,6, 1000)\n",
    "y = dlogistic(x_eval)\n",
    "plt.plot(x_eval, y)"
   ]
  },
  {
   "cell_type": "markdown",
   "metadata": {},
   "source": [
    "## Gradient descent\n",
    "Some parts of this section were taken from Sebastian Ruder's excellent blog on GD.\n",
    "\n",
    "As we have seen, the key aspect of training a neural network has to do with minimizing a cost function $J(\\theta)$. Gradient descent is a method that allows to do exactly that in a very effective way by updating the parameters $\\theta$ in the opposite direction of the gradient of the objective function $\\nabla_{\\theta}J(\\theta)$ w.r.t. to the parameters. In other words, you try to go down the slope in the direction where the slope is steeper. The learning rate $\\eta$ determines the size of the steps we take to reach a (local) minimum. In other words, we follow the direction of the slope of the surface created by the objective function downhill until we reach a valley.\n",
    "\n",
    "![](images/GD1.png){:height=300 width=300}![](images/GD2.png){:height=300 width=300}\n",
    "\n",
    "\n",
    "The idea is that the direction we should pick to go down the slope to maximize the change in $J(\\theta)$ is that of the gradient $\\nabla_{\\theta}J(\\theta)$. This can be easily proved if we calculate the difference in $J$ for two different epochs: $\\Delta J = J(\\theta(t+1) - J(\\theta(t)))$ (try it!) \n",
    "\n",
    "### Batch gradient descent\n",
    "\n",
    "Vanilla gradient descent, aka batch gradient descent, computes the gradient of the cost function w.r.t. to the parameters $\\theta$ for the entire training dataset:\n",
    "\n",
    "$$\\theta = \\theta−\\eta\\nabla_{\\theta}J(\\theta;x;y)$$\n",
    "\n",
    "Keep in mind that the cost function $J$ is the product of the individual likelihoods for each example in the training set, and so in order to produce one single update to the parameters, you need to use the entire training set."
   ]
  },
  {
   "cell_type": "markdown",
   "metadata": {},
   "source": [
    "## Classifying the Iris data set\n",
    "\n",
    "The Iris flower data set is a multivariate data set introduced by Ronald Fisher in his 1936 to describ morphological properties of three related species of the Iris flower. The data set consists of 50 samples from each of three species of Iris (Iris setosa, Iris virginica and Iris versicolor). Four features were measured from each sample: the length and the width of the sepals and petals, in centimetres.\n",
    "\n",
    "The goal of this part of the lab is to perform classification of this dataset using the logistic regression, and batch gradient descent to perform the minimization of the cost function (training)."
   ]
  },
  {
   "cell_type": "code",
   "execution_count": 12,
   "metadata": {
    "collapsed": false
   },
   "outputs": [
    {
     "name": "stdout",
     "output_type": "stream",
     "text": [
      "Populating the interactive namespace from numpy and matplotlib\n"
     ]
    },
    {
     "name": "stderr",
     "output_type": "stream",
     "text": [
      "//anaconda/envs/python3/lib/python3.6/site-packages/IPython/core/magics/pylab.py:161: UserWarning: pylab import has clobbered these variables: ['logistic']\n",
      "`%matplotlib` prevents importing * from pylab and numpy\n",
      "  \"\\n`%matplotlib` prevents importing * from pylab and numpy\"\n"
     ]
    }
   ],
   "source": [
    "%pylab inline\n",
    "\n",
    "import matplotlib.pyplot as plt\n",
    "import six.moves.cPickle as pickle\n",
    "#import gzip\n",
    "#import os\n",
    "#import sys\n",
    "import timeit\n",
    "\n",
    "import numpy as np\n",
    "\n",
    "import theano\n",
    "import theano.tensor as T\n",
    "#import matplotlib.pyplot as plt\n",
    "#import csv\n",
    "#import pandas as pd\n",
    "import six.moves.cPickle as pickle"
   ]
  },
  {
   "cell_type": "code",
   "execution_count": 13,
   "metadata": {
    "collapsed": false
   },
   "outputs": [],
   "source": [
    "#iris_dataset = pd.read_csv('iris.csv')"
   ]
  },
  {
   "cell_type": "code",
   "execution_count": 13,
   "metadata": {
    "collapsed": false
   },
   "outputs": [],
   "source": [
    "#feats = []\n",
    "#species = []\n",
    "#for i in arange(len(iris_dataset['Sepal.Length'])):\n",
    "#    feats.append(np.array([iris_dataset['Sepal.Length'][i],iris_dataset['Sepal.Width'][i],\\\n",
    "#                 iris_dataset['Petal.Length'][i],iris_dataset['Petal.Width'][i]]))\n",
    "#    species.append(iris_dataset['Species'][i])"
   ]
  },
  {
   "cell_type": "code",
   "execution_count": 15,
   "metadata": {
    "collapsed": false
   },
   "outputs": [],
   "source": [
    "#iris_data = {'features': feats, 'species': species}"
   ]
  },
  {
   "cell_type": "code",
   "execution_count": 16,
   "metadata": {
    "collapsed": false
   },
   "outputs": [],
   "source": [
    "# pickle_file = open(\"iris_dataset.pickle\", \"wb\")\n",
    "# pickle.dump(iris_data, pickle_file)\n",
    "# pickle_file.close()"
   ]
  },
  {
   "cell_type": "markdown",
   "metadata": {},
   "source": [
    "### Load the dataset\n",
    "\n",
    "The dataset is saved as a pickle file, and you can easily separate it into features and classes:"
   ]
  },
  {
   "cell_type": "code",
   "execution_count": 28,
   "metadata": {
    "collapsed": false
   },
   "outputs": [],
   "source": [
    "pkl_file = open('./iris_dataset.pickle', 'rb')\n",
    "iris_data = pickle.load(pkl_file)\n",
    "features = iris_data['features']\n",
    "features = np.array(features)\n",
    "species = iris_data['species']\n",
    "species = np.array(species)"
   ]
  },
  {
   "cell_type": "markdown",
   "metadata": {},
   "source": [
    "Let us explore the dataset a bit by plotting the features color-coded according to their class."
   ]
  },
  {
   "cell_type": "code",
   "execution_count": 23,
   "metadata": {
    "collapsed": false
   },
   "outputs": [
    {
     "name": "stdout",
     "output_type": "stream",
     "text": [
      "[0 0 0 0 0 0 0 0 0 0 0 0 0 0 0 0 0 0 0 0 0 0 0 0 0 0 0 0 0 0 0 0 0 0 0 0 0\n",
      " 0 0 0 0 0 0 0 0 0 0 0 0 0 1 1 1 1 1 1 1 1 1 1 1 1 1 1 1 1 1 1 1 1 1 1 1 1\n",
      " 1 1 1 1 1 1 1 1 1 1 1 1 1 1 1 1 1 1 1 1 1 1 1 1 1 1 2 2 2 2 2 2 2 2 2 2 2\n",
      " 2 2 2 2 2 2 2 2 2 2 2 2 2 2 2 2 2 2 2 2 2 2 2 2 2 2 2 2 2 2 2 2 2 2 2 2 2\n",
      " 2 2]\n"
     ]
    }
   ],
   "source": [
    "uni = np.unique(species)\n",
    "\n",
    "species[species == uni[0]] = 0\n",
    "species[species == uni[1]] = 1\n",
    "species[species == uni[2]] = 2\n",
    "species = species.astype(np.int)\n",
    "print(species)"
   ]
  },
  {
   "cell_type": "code",
   "execution_count": 25,
   "metadata": {
    "collapsed": false
   },
   "outputs": [],
   "source": [
    "# Shuffle entries and separate into training, validation and test sets:\n",
    "\n",
    "indices = np.arange(150)\n",
    "np.random.shuffle(indices)\n",
    "\n",
    "species = species[indices]\n",
    "features = features[indices]\n",
    "\n",
    "train_set = [features[0:110],species[0:110]] #110\n",
    "valid_set = [features[110:130],species[110:130]] #20\n",
    "test_set = [features[130:150],species[130:150]] #20"
   ]
  },
  {
   "cell_type": "code",
   "execution_count": 26,
   "metadata": {
    "collapsed": false
   },
   "outputs": [
    {
     "data": {
      "text/plain": [
       "<matplotlib.collections.PathCollection at 0x10c344ef0>"
      ]
     },
     "execution_count": 26,
     "metadata": {},
     "output_type": "execute_result"
    },
    {
     "data": {
      "image/png": "[encoded data removed]",
      "text/plain": [
       "<matplotlib.figure.Figure at 0x10c1617b8>"
      ]
     },
     "metadata": {},
     "output_type": "display_data"
    }
   ],
   "source": [
    "# Let us plot some of the features agains each other for different species\n",
    "\n",
    "f, axarr = plt.subplots(2, 2)\n",
    "axarr[0, 0].scatter(features[:,0][species == 0],features[:,1][species == 0],color = 'blue')\n",
    "axarr[0, 0].scatter(features[:,0][species == 1],features[:,1][species == 1],color = 'red')\n",
    "axarr[0, 0].scatter(features[:,0][species == 2],features[:,1][species == 2],color = 'green')\n",
    "#axarr[0, 0].set_title('Axis [0,0]')\n",
    "axarr[0, 1].scatter(features[:,2][species == 0],features[:,3][species == 0],color = 'blue')\n",
    "axarr[0, 1].scatter(features[:,2][species == 1],features[:,3][species == 1],color = 'red')\n",
    "axarr[0, 1].scatter(features[:,2][species == 2],features[:,3][species == 2],color = 'green')\n",
    "#axarr[0, 1].set_title('Axis [0,1]')\n",
    "axarr[1, 0].scatter(features[:,0][species == 0],features[:,2][species == 0],color = 'blue')\n",
    "axarr[1, 0].scatter(features[:,0][species == 1],features[:,2][species == 1],color = 'red')\n",
    "axarr[1, 0].scatter(features[:,0][species == 2],features[:,2][species == 2],color = 'green')\n",
    "#axarr[0, 1].set_title('Axis [1,1]')\n",
    "axarr[1, 1].scatter(features[:,1][species == 0],features[:,3][species == 0],color = 'blue')\n",
    "axarr[1, 1].scatter(features[:,1][species == 1],features[:,3][species == 1],color = 'red')\n",
    "axarr[1, 1].scatter(features[:,1][species == 2],features[:,3][species == 2],color = 'green')\n",
    "#axarr[1, 1].set_title('Axis [1,1]')"
   ]
  },
  {
   "cell_type": "markdown",
   "metadata": {},
   "source": [
    "## Using Theano to do classification with the logistic regression\n",
    "\n",
    "We will use Theano to train a logistic regression classifier using this dataset. We leave validation and testing for the homework, but this part of the lab should form the basis of the code for your homework.\n",
    "First, let us define symbolic variables for the features and the classes."
   ]
  },
  {
   "cell_type": "code",
   "execution_count": 30,
   "metadata": {
    "collapsed": false
   },
   "outputs": [],
   "source": [
    "# Declare Theano symbolic variables for the features and the classes\n",
    "x = T.dmatrix('x') # vector of features \n",
    "y = T.lvector('y') # vector of outputs"
   ]
  },
  {
   "cell_type": "markdown",
   "metadata": {},
   "source": [
    "We create shared variables that contain the matrix of weights and the bias terms and initialize it with normally distributed values:"
   ]
  },
  {
   "cell_type": "code",
   "execution_count": 34,
   "metadata": {
    "collapsed": false
   },
   "outputs": [],
   "source": [
    "# initialize the weight vector w randomly\n",
    "\n",
    "# this and the following bias variable b\n",
    "# are shared so they keep their values\n",
    "# between training iterations (updates)\n",
    "w = theano.shared(np.random.randn(len(features[0]),len(np.unique(species))), name='w', borrow=True)\n",
    "\n",
    "# w dimensions nfeatures x numclasses  for the softmax formulation each theta is the probability of each of the classes"
   ]
  },
  {
   "cell_type": "code",
   "execution_count": 35,
   "metadata": {
    "collapsed": false
   },
   "outputs": [
    {
     "ename": "TypeError",
     "evalue": "No suitable SharedVariable constructor could be found. Are you sure all kwargs are supported? We do not support the parameter dtype or type. value=\"[ 0.  0.  0.]\". parameters=\"{'dtype': 'float64', 'borrow': True}\"",
     "output_type": "error",
     "traceback": [
      "\u001b[0;31m-----------------------------------------------------------------\u001b[0m",
      "\u001b[0;31mTypeError\u001b[0m                       Traceback (most recent call last)",
      "\u001b[0;32m<ipython-input-35-bf87f2b69765>\u001b[0m in \u001b[0;36m<module>\u001b[0;34m()\u001b[0m\n\u001b[1;32m      1\u001b[0m \u001b[0;31m# initialize the bias term\u001b[0m\u001b[0;34m\u001b[0m\u001b[0;34m\u001b[0m\u001b[0m\n\u001b[0;32m----> 2\u001b[0;31m \u001b[0mb\u001b[0m \u001b[0;34m=\u001b[0m \u001b[0mtheano\u001b[0m\u001b[0;34m.\u001b[0m\u001b[0mshared\u001b[0m\u001b[0;34m(\u001b[0m\u001b[0mvalue\u001b[0m\u001b[0;34m=\u001b[0m\u001b[0mnp\u001b[0m\u001b[0;34m.\u001b[0m\u001b[0mzeros\u001b[0m\u001b[0;34m(\u001b[0m\u001b[0;34m(\u001b[0m\u001b[0mlen\u001b[0m\u001b[0;34m(\u001b[0m\u001b[0mnp\u001b[0m\u001b[0;34m.\u001b[0m\u001b[0munique\u001b[0m\u001b[0;34m(\u001b[0m\u001b[0mspecies\u001b[0m\u001b[0;34m)\u001b[0m\u001b[0;34m)\u001b[0m\u001b[0;34m,\u001b[0m\u001b[0;34m)\u001b[0m\u001b[0;34m)\u001b[0m\u001b[0;34m,\u001b[0m \u001b[0mdtype\u001b[0m\u001b[0;34m=\u001b[0m\u001b[0mtheano\u001b[0m\u001b[0;34m.\u001b[0m\u001b[0mconfig\u001b[0m\u001b[0;34m.\u001b[0m\u001b[0mfloatX\u001b[0m\u001b[0;34m,\u001b[0m \u001b[0mname\u001b[0m\u001b[0;34m=\u001b[0m\u001b[0;34m'b'\u001b[0m\u001b[0;34m,\u001b[0m \u001b[0mborrow\u001b[0m\u001b[0;34m=\u001b[0m\u001b[0;32mTrue\u001b[0m\u001b[0;34m)\u001b[0m\u001b[0;34m\u001b[0m\u001b[0m\n\u001b[0m",
      "\u001b[0;32m//anaconda/envs/python3/lib/python3.6/site-packages/theano/compile/sharedvalue.py\u001b[0m in \u001b[0;36mshared\u001b[0;34m(value, name, strict, allow_downcast, **kwargs)\u001b[0m\n\u001b[1;32m    265\u001b[0m                     \u001b[0;34m' We do not support the parameter dtype or type.'\u001b[0m\u001b[0;34m\u001b[0m\u001b[0m\n\u001b[1;32m    266\u001b[0m                     \u001b[0;34m' value=\"%s\". parameters=\"%s\"'\u001b[0m \u001b[0;34m%\u001b[0m\u001b[0;34m\u001b[0m\u001b[0m\n\u001b[0;32m--> 267\u001b[0;31m                     (value, kwargs))\n\u001b[0m\u001b[1;32m    268\u001b[0m \u001b[0;34m\u001b[0m\u001b[0m\n\u001b[1;32m    269\u001b[0m \u001b[0mshared\u001b[0m\u001b[0;34m.\u001b[0m\u001b[0mconstructors\u001b[0m \u001b[0;34m=\u001b[0m \u001b[0;34m[\u001b[0m\u001b[0;34m]\u001b[0m\u001b[0;34m\u001b[0m\u001b[0m\n",
      "\u001b[0;31mTypeError\u001b[0m: No suitable SharedVariable constructor could be found. Are you sure all kwargs are supported? We do not support the parameter dtype or type. value=\"[ 0.  0.  0.]\". parameters=\"{'dtype': 'float64', 'borrow': True}\""
     ]
    }
   ],
   "source": [
    "# initialize the bias term\n",
    "b = theano.shared(value=np.zeros((len(np.unique(species)),)), dtype=theano.config.floatX, name='b', borrow=True)"
   ]
  },
  {
   "cell_type": "code",
   "execution_count": 17,
   "metadata": {
    "collapsed": false
   },
   "outputs": [],
   "source": [
    "print(\"Initial model:\")\n",
    "print(w.get_value())\n",
    "print(b.get_value())"
   ]
  },
  {
   "cell_type": "markdown",
   "metadata": {},
   "source": [
    "Next step is the creation of the computational graph that computes the cost function for using all examples in the dataset. The likelihood is is built using the softmax formulation. In this formulation, we project the input vector into a set of hyperplanes that represent the different classes, and the distance from the vector to each of these hyperplanes relates to the probability of the input belonging to a given class. Write a graph that calculates the likelihood, the loss and the cost function, as well as the gradients of the cost function with respects to the weights and the bias terms. Use an L2 regularization approach."
   ]
  },
  {
   "cell_type": "code",
   "execution_count": 613,
   "metadata": {
    "collapsed": false
   },
   "outputs": [],
   "source": [
    "# Construct Theano expression graph\n",
    "p_y_given_x =                                   # Probability that target belongs to class i (softmax)\n",
    "prediction =                                    # The prediction of the model (class whose probability is maximal)\n",
    "loss =                                          # Loss function\n",
    "cost =                                          # The cost to minimize with regularization\n",
    "gw = \n",
    "gb =                                            # Compute the gradient of the cost\n",
    "                                                # w.r.t weight vector w and\n",
    "                                                # bias term b\n",
    "                                                # (we shall return to this in a\n",
    "                                                # following section of this tutorial)"
   ]
  },
  {
   "cell_type": "markdown",
   "metadata": {},
   "source": [
    "Now write a Theano function that uses the graph to evaluate the predictions of the classiffier and the loss function for a single epoch, and evaluates the gradient using all examples of the training set in order to update the parameters (batch gradient descent). Leave the learning rate as an adjustable parameter."
   ]
  },
  {
   "cell_type": "code",
   "execution_count": 614,
   "metadata": {
    "collapsed": false
   },
   "outputs": [],
   "source": [
    "# Compile. What is a good learning rate?\n",
    "eta = 0.1 # Learning rate\n",
    "train = theano.function(\n",
    "          inputs=[x,y],\n",
    "          outputs=[prediction, loss],\n",
    "          updates=((w, w - eta * gw), (b, b - eta * gb)),name='train')\n",
    "validate = \n",
    "\n",
    "test = \n",
    "\n",
    "predict = theano.function(inputs=[x], outputs=prediction, name='predict')"
   ]
  },
  {
   "cell_type": "markdown",
   "metadata": {},
   "source": [
    "Now train your classifier using a certain number of epochs. Plot the evolution of the loss function for different values of the learning rate and the regularization parameter."
   ]
  },
  {
   "cell_type": "code",
   "execution_count": 615,
   "metadata": {
    "collapsed": false
   },
   "outputs": [],
   "source": [
    "n_epochs = 50000"
   ]
  },
  {
   "cell_type": "code",
   "execution_count": 616,
   "metadata": {
    "collapsed": false
   },
   "outputs": [],
   "source": [
    "# Train and every certain number of empochs (let us say 500), evaluate\n",
    "# the performance of the classifier on the validation set. Save the\n",
    "# validation loss each time you do so.\n",
    "errors = []\n",
    "errors_val = []\n",
    "for i in range(n_epochs):\n",
    "    pred, err =                      # train function applied to the training set\n",
    "    errors.append(err)\n",
    "    \n",
    "    if (i%500 == 0):\n",
    "        pred_val, err_val =          # validate function applied to the validation set\n",
    "        errors_val.append(err_val)"
   ]
  },
  {
   "cell_type": "code",
   "execution_count": 20,
   "metadata": {
    "collapsed": false
   },
   "outputs": [],
   "source": [
    "# Plot the validation losss\n",
    "plt.plot(500*arange(len(errors_val)),np.array(errors_val),marker='o')\n",
    "plt.yscale('log')\n",
    "plt.axis('tight')"
   ]
  },
  {
   "cell_type": "markdown",
   "metadata": {},
   "source": [
    "Now estimate the number of errors made by the classifier on the training set itself."
   ]
  },
  {
   "cell_type": "code",
   "execution_count": 18,
   "metadata": {
    "collapsed": false
   },
   "outputs": [],
   "source": [
    "print(\"Final model:\")\n",
    "print(w.get_value())\n",
    "print(b.get_value())\n",
    "print(\"target values for D:\")\n",
    "print(test_set[1])\n",
    "print(\"prediction on D:\")\n",
    "print(predict(test_set[0]))"
   ]
  },
  {
   "cell_type": "code",
   "execution_count": 619,
   "metadata": {
    "collapsed": true
   },
   "outputs": [],
   "source": [
    "# Estimate error\n",
    "# Function to count errors\n",
    "aa = T.dvector('aa')\n",
    "bb = T.dvector('bb')\n",
    "cc = T.mean(T.neq(aa, bb))\n",
    "f_err = function([aa, bb], cc)"
   ]
  },
  {
   "cell_type": "code",
   "execution_count": 19,
   "metadata": {
    "collapsed": false
   },
   "outputs": [],
   "source": [
    "print('Test error = ',100.*f_err(test_set[1],predict(test_set[0])))"
   ]
  },
  {
   "cell_type": "code",
   "execution_count": null,
   "metadata": {
    "collapsed": true
   },
   "outputs": [],
   "source": []
  }
 ],
 "metadata": {
  "anaconda-cloud": {},
  "kernelspec": {
   "display_name": "Python [python3]",
   "language": "python",
   "name": "Python [python3]"
  },
  "language_info": {
   "codemirror_mode": {
    "name": "ipython",
    "version": 3
   },
   "file_extension": ".py",
   "mimetype": "text/x-python",
   "name": "python",
   "nbconvert_exporter": "python",
   "pygments_lexer": "ipython3",
   "version": "3.6.0"
  }
 },
 "nbformat": 4,
 "nbformat_minor": 0
}
