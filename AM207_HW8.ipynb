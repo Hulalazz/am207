{
 "cells": [
  {
   "cell_type": "code",
   "execution_count": 2,
   "metadata": {
    "collapsed": false
   },
   "outputs": [
    {
     "name": "stderr",
     "output_type": "stream",
     "text": [
      "//anaconda/envs/python3/lib/python3.6/site-packages/IPython/html.py:14: ShimWarning: The `IPython.html` package has been deprecated. You should import from `notebook` instead. `IPython.html.widgets` has moved to `ipywidgets`.\n",
      "  \"`IPython.html.widgets` has moved to `ipywidgets`.\", ShimWarning)\n"
     ]
    }
   ],
   "source": [
    "%matplotlib inline\n",
    "import numpy as np\n",
    "import scipy\n",
    "from scipy import stats\n",
    "from scipy.stats import norm\n",
    "from scipy.stats import beta\n",
    "from scipy.stats import distributions\n",
    "import matplotlib.pyplot as plt\n",
    "import seaborn as sns\n",
    "import pandas as pd\n",
    "import numpy as np\n",
    "import time\n",
    "sns.set_style('white')\n",
    "sns.set_context('paper')\n",
    "from scipy.special import gammaln"
   ]
  },
  {
   "cell_type": "markdown",
   "metadata": {},
   "source": [
    "# APMTH 207: Advanced Scientific Computing: \n",
    "## Stochastic Methods for Data Analysis, Inference and Optimization\n",
    "## Homework #8\n",
    "**Harvard University**<br>\n",
    "**Spring 2017**<br>\n",
    "**Instructors: Rahul Dave**<br>\n",
    "**Due Date: ** Friday, March 31st, 2017 at 11:59pm\n",
    "\n",
    "**Instructions:**\n",
    "\n",
    "- Upload your final answers as well as your iPython notebook containing all work to Canvas.\n",
    "\n",
    "- Structure your notebook and your work to maximize readability."
   ]
  },
  {
   "cell_type": "markdown",
   "metadata": {},
   "source": [
    "## Problem 1: Application of Data Augmentation\n",
    "\n",
    "A plant nursery in Cambridge is exprimentally cross-breeding two types of hibiscus flowers: blue and pink. The goal is to create an exotic flower whose petals are pink with a ring of blue on each. \n",
    "\n",
    "There are four types of child plant that can result from this cross-breeding: \n",
    "\n",
    "  - Type 1: blue petals\n",
    "  - Type 2: pink petals \n",
    "  - Type 3: purple petals\n",
    "  - Type 4: pink petals with a blue ring on each (the desired effect). \n",
    "\n",
    "Out of 197 initial cross-breedings, the nursery obtained the following distribution over the four types of child plants: \n",
    "$$Y = (y_1, y_2, y_3, y_4) = (125, 18, 20, 34)$$\n",
    "where $y_i$ represents the number of child plants that are of type $i$.\n",
    "\n",
    "The nursery then consulted a famed Harvard plant geneticist, who informed them that the probability of obtaining each type of child plant in any single breeding experiment is as follows:\n",
    "$$ \\frac{\\theta+2}{4}, \\frac{1-\\theta}{4}, \\frac{1-\\theta}{4}, \\frac{\\theta}{4}.$$\n",
    "Unfortunately, the geneticist did not specify the quantity $\\theta$.\n",
    "\n",
    "Clearly, the nursery is interested in understanding how many cross-breeding they must perform, on average, in order to obtain a certain number of child plants with the exotic blue rings. To do this they must be able to compute $\\theta$. \n",
    "\n",
    "The owners of the nursery, being top students in AM207, decided to model the experiment in hopes of discovering $\\theta$ using the results from their 197 initial experiments. \n",
    "\n",
    "They chose to model the observed data using a multinomial model and thus calculated the likelihood to be:\n",
    "$$ p(y  \\vert  \\theta) \\propto (2+\\theta)^{y_1} (1-\\theta)^{y_2+y_3}  \\, \\theta^{y_4}\n",
    "$$\n",
    "\n",
    "Being good Bayesians, they also imposed a prior on $\\theta$, $\\rm{Beta}(a, b)$.\n",
    "\n",
    "Thus, the posterior is:\n",
    "$$ p(\\theta \\vert  Y) \\propto \\left( 2+\\theta \\right)^{y_1} (1-\\theta)^{y_2+y_3} \\, \\theta^{\n",
    "y_4} \\, \\theta^{a-1} \\, (1-\\theta)^{b-1}. $$\n",
    "\n",
    "If the nursery owners are able to sample from the posterior, they would be understand the distribution of $\\theta$ and make appropriate estimates."
   ]
  },
  {
   "cell_type": "markdown",
   "metadata": {},
   "source": [
    "### Part A: Sampling using data augmentation\n",
    "\n",
    "Realizing that it would be difficult to sample from the posterior directly and after being repeatedly frustrated by attempts of Metropolis-Hastings and Gibbs sampling for this model, the nursery owners decided to augment their model and hopefully obtain a friendlier looking distribution that allows for easy sampling.\n",
    "\n",
    "They augment the data with a new variable $z$ such that:\n",
    "$$z + (y_1 - z) = y_1.$$\n",
    "That is, using $z$, we are breaking $y_1$, the number of type I child plants, into two subtypes. Let the probability of obtain the two subtype be $1/2$ and $\\theta/4$, respectively. Now, we can interpret $y_1$ to be the total number of trials in a binomial trial. Thus, the new likelihood can be written as\n",
    "$$ p(y, z  \\vert  \\theta) \\propto \\binom{y_{1}}{z} \\left (\\frac{1}{2} \\right )^{y_1-z} \\left(\\frac{\\theta}{4} \\right )^{z}  (1-\\theta)^{y_2+y_3}  \\, \\theta^{y_4}\n",
    "$$\n",
    "\n",
    "\n",
    "Derived the joint posterior $p(\\theta, z  \\vert  y)$ and sample from it using Gibbs sampling.\n",
    "\n",
    "$$ p(\\theta, z  \\vert  y) \\propto \\binom{y_{1}}{z} \\left (\\frac{1}{2} \\right )^{y_1-z} \\left(\\frac{\\theta}{4} \\right )^{z}  (1-\\theta)^{y_2+y_3}  \\, \\theta^{y_4} \\theta^{a-1} \\, (1-\\theta)^{b-1}\n",
    "$$\n",
    "\n",
    "This can be simplified as follows:\n",
    "\n",
    "$$ p(\\theta, z  \\vert  y) \\propto \\binom{y_{1}}{z} \\left (\\frac{1}{4} \\right )^{\\alpha+y_4} \\left (\\frac{1}{2} \\right )^{y_1-z} \\left(\\frac{\\theta}{4} \\right )^{z+\\alpha + y_4}  (1-\\theta)^{y_2+y_3+b-1}\n",
    "$$\n",
    "\n",
    "The conditional distributions for Gibbs sampling can now be derived:\n",
    "\n",
    "$$ p(\\theta \\vert z, y) \\propto \\left(\\frac{1}{4} \\right )^{z+\\alpha + y_4} \\theta^{z+\\alpha + y_4}  (1-\\theta)^{y_2+y_3+b-1}\n",
    "$$\n",
    "\n",
    "Which is equivalent to a beta distribution with params $\\alpha' = z+\\alpha + y_4$ and $\\beta' = y_2+y_3+b$\n",
    "\n",
    "To obtain the conditional for z, keep only the terms from the joint which involve z:\n",
    "\n",
    "$$ p(z  \\vert  y,\\theta) \\propto \\binom{y_{1}}{z} \\left (\\frac{1}{2} \\right )^{y_1-z} \\left(\\frac{\\theta}{4} \\right )^{z+\\alpha + y_4} \n",
    "$$\n",
    "\n",
    "To obtain a valid binomial distribution the probabilities $\\left (\\frac{1}{2} \\right)$ and $\\left(\\frac{\\theta}{4}\\right)$ need to sum to 1. This involves dividing the probabilities by $\\left (\\frac{1}{2} \\right) + \\left(\\frac{\\theta}{4} \\right)$ which results in the following form for the conditional disribution:\n",
    "\n",
    "\n",
    "$$ p(z  \\vert  y,\\theta) \\propto \\binom{y_{1}}{z} \\left (\\frac{2}{2 +\\theta} \\right )^{y_1-z} \\left(\\frac{\\theta}{2+ \\theta} \\right )^{z} \n",
    "$$\n",
    "\n",
    "Which is a binomial distribution with $N=y_1$ and $p=\\left (\\frac{\\theta}{2 +\\theta} \\right )$\n",
    "\n",
    "Visualize the distribution of theta and, from this distribution, estimate the probability of obtaining a type 4 child plant (with the blue rings) in any cross-breeding experiment.\n",
    "\n",
    "As we do not currently have any knowledge about $\\theta$, a uniform prior can be used (a=1, b=1)."
   ]
  },
  {
   "cell_type": "code",
   "execution_count": 80,
   "metadata": {
    "collapsed": false
   },
   "outputs": [
    {
     "name": "stdout",
     "output_type": "stream",
     "text": [
      "1.0240731152\n",
      "1.45318491676\n",
      "1.83693731057\n",
      "2.05505602178\n",
      "2.67713777727\n",
      "2.24812784822\n",
      "2.15459883001\n",
      "2.65157124419\n",
      "2.45305105107\n",
      "3.08763854972\n",
      "2.67401808151\n",
      "2.96615290273\n",
      "2.73915400461\n",
      "2.49971626721\n",
      "3.39865674987\n",
      "2.52617408577\n",
      "2.50827579293\n",
      "3.00559337271\n",
      "2.52599484144\n",
      "2.58257590283\n",
      "2.69951231484\n",
      "2.53476473244\n",
      "2.91855369218\n",
      "3.04509441126\n",
      "2.8303286172\n",
      "2.65798390921\n",
      "2.79827944965\n",
      "2.9200799567\n",
      "2.67037038336\n",
      "2.27614826918\n",
      "2.48920347099\n",
      "2.20878884447\n",
      "2.03784528858\n",
      "2.50441613434\n",
      "2.72103094425\n",
      "2.8143943722\n",
      "2.95696734696\n",
      "3.27692503875\n",
      "2.56749635117\n",
      "2.69228125297\n",
      "2.42476425998\n",
      "2.26701474392\n",
      "2.5391449313\n",
      "2.4996117282\n",
      "2.48955752956\n",
      "2.32176671595\n",
      "2.28581818611\n",
      "2.64184245879\n",
      "2.8330193089\n"
     ]
    }
   ],
   "source": [
    "N=100000\n",
    "thetas=np.zeros(N)\n",
    "z=np.zeros(N)\n",
    "thetas[0] = 0.15\n",
    "z[0] = 5\n",
    "a = 1\n",
    "b = 1\n",
    "y = [125,18,20,34]\n",
    "for i in np.arange(1,50):\n",
    "    alpha= a+z[i-1]+y[3]\n",
    "    bta = b+y[1] + y[2]\n",
    "    thetas[i] = stats.gamma.rvs(alpha, scale=1.0/bta)\n",
    "    print( thetas[i])\n",
    "    z[i] = stats.binom.rvs(n=y[0], p=(thetas[i]/(2+ thetas[i])))\n",
    "    "
   ]
  },
  {
   "cell_type": "code",
   "execution_count": 77,
   "metadata": {
    "collapsed": false
   },
   "outputs": [
    {
     "data": {
      "text/plain": [
       "<matplotlib.text.Text at 0x115c6e4e0>"
      ]
     },
     "execution_count": 77,
     "metadata": {},
     "output_type": "execute_result"
    },
    {
     "data": {
      "image/png": "[encoded data removed]",
      "text/plain": [
       "<matplotlib.figure.Figure at 0x110f94ef0>"
      ]
     },
     "metadata": {},
     "output_type": "display_data"
    }
   ],
   "source": [
    "plt.figure(figsize=[12,6])\n",
    "plt.subplot(1,2,1)\n",
    "plt.plot(z)\n",
    "plt.ylabel('z')\n",
    "plt.subplot(1,2,2)\n",
    "plt.plot(thetas)\n",
    "plt.ylabel('theta')"
   ]
  },
  {
   "cell_type": "markdown",
   "metadata": {},
   "source": [
    "# Remove burnin and thin the samples"
   ]
  },
  {
   "cell_type": "code",
   "execution_count": 58,
   "metadata": {
    "collapsed": false
   },
   "outputs": [
    {
     "name": "stdout",
     "output_type": "stream",
     "text": [
      "(9900,) (9900,)\n"
     ]
    }
   ],
   "source": [
    "thin=10\n",
    "burnin=1000\n",
    "ztrace=z[burnin+1:N:thin]\n",
    "thetastrace=thetas[burnin+1:N:thin]\n",
    "print(thetastrace.shape, ztrace.shape)"
   ]
  },
  {
   "cell_type": "markdown",
   "metadata": {},
   "source": [
    "# Check the samples are uncorrelated"
   ]
  },
  {
   "cell_type": "code",
   "execution_count": 59,
   "metadata": {
    "collapsed": true
   },
   "outputs": [],
   "source": [
    "def corrplot(trace, maxlags=50):\n",
    "    plt.acorr(trace-np.mean(trace),  normed=True, maxlags=maxlags);\n",
    "    plt.xlim([0, maxlags])"
   ]
  },
  {
   "cell_type": "code",
   "execution_count": 60,
   "metadata": {
    "collapsed": false
   },
   "outputs": [
    {
     "name": "stderr",
     "output_type": "stream",
     "text": [
      "//anaconda/envs/python3/lib/python3.6/site-packages/matplotlib/axes/_axes.py:1787: RuntimeWarning: invalid value encountered in true_divide\n",
      "  c /= np.sqrt(np.dot(x, x) * np.dot(y, y))\n"
     ]
    },
    {
     "data": {
      "image/png": "[encoded data removed]",
      "text/plain": [
       "<matplotlib.figure.Figure at 0x10efbc2e8>"
      ]
     },
     "metadata": {},
     "output_type": "display_data"
    }
   ],
   "source": [
    "corrplot(ztrace)"
   ]
  },
  {
   "cell_type": "code",
   "execution_count": 61,
   "metadata": {
    "collapsed": false
   },
   "outputs": [
    {
     "data": {
      "image/png": "[encoded data removed]",
      "text/plain": [
       "<matplotlib.figure.Figure at 0x10e194978>"
      ]
     },
     "metadata": {},
     "output_type": "display_data"
    }
   ],
   "source": [
    "corrplot(thetastrace)"
   ]
  },
  {
   "cell_type": "markdown",
   "metadata": {},
   "source": [
    "# Visualise the distribution of the theta"
   ]
  },
  {
   "cell_type": "code",
   "execution_count": 46,
   "metadata": {
    "collapsed": false
   },
   "outputs": [
    {
     "data": {
      "text/plain": [
       "<matplotlib.text.Text at 0x10dcaa780>"
      ]
     },
     "execution_count": 46,
     "metadata": {},
     "output_type": "execute_result"
    },
    {
     "data": {
      "image/png": "[encoded data removed]",
      "text/plain": [
       "<matplotlib.figure.Figure at 0x10dc4ccc0>"
      ]
     },
     "metadata": {},
     "output_type": "display_data"
    }
   ],
   "source": [
    "plt.hist(thetas, bins=100, alpha=0.3, normed=True);\n",
    "sns.kdeplot(thetas)\n",
    "plt.xlabel('thetas')"
   ]
  },
  {
   "cell_type": "markdown",
   "metadata": {},
   "source": [
    "# Visualise the distribution of the trace"
   ]
  },
  {
   "cell_type": "code",
   "execution_count": 47,
   "metadata": {
    "collapsed": false
   },
   "outputs": [
    {
     "data": {
      "text/plain": [
       "<matplotlib.text.Text at 0x10c35fb70>"
      ]
     },
     "execution_count": 47,
     "metadata": {},
     "output_type": "execute_result"
    },
    {
     "data": {
      "image/png": "[encoded data removed]",
      "text/plain": [
       "<matplotlib.figure.Figure at 0x10cb34a58>"
      ]
     },
     "metadata": {},
     "output_type": "display_data"
    }
   ],
   "source": [
    "plt.hist(thetastrace, bins=100, alpha=0.3, normed=True);\n",
    "sns.kdeplot(thetastrace)\n",
    "plt.xlabel('thetas')"
   ]
  },
  {
   "cell_type": "code",
   "execution_count": 48,
   "metadata": {
    "collapsed": false
   },
   "outputs": [],
   "source": [
    "theta_final = np.mean(thetastrace)"
   ]
  },
  {
   "cell_type": "code",
   "execution_count": 49,
   "metadata": {
    "collapsed": false
   },
   "outputs": [
    {
     "name": "stdout",
     "output_type": "stream",
     "text": [
      "2.74426382247\n",
      "0.686065955617\n",
      "-0.436065955617\n"
     ]
    }
   ],
   "source": [
    "print(theta_final)\n",
    "print(theta_final/4)\n",
    "print((1-theta_final)/4)"
   ]
  },
  {
   "cell_type": "markdown",
   "metadata": {},
   "source": [
    "The probability of obtaining a type 4 plant is "
   ]
  }
 ],
 "metadata": {
  "anaconda-cloud": {},
  "kernelspec": {
   "display_name": "Python 3",
   "language": "python",
   "name": "python3"
  },
  "language_info": {
   "codemirror_mode": {
    "name": "ipython",
    "version": 3
   },
   "file_extension": ".py",
   "mimetype": "text/x-python",
   "name": "python",
   "nbconvert_exporter": "python",
   "pygments_lexer": "ipython3",
   "version": "3.6.0"
  }
 },
 "nbformat": 4,
 "nbformat_minor": 1
}
