{
 "cells": [
  {
   "cell_type": "code",
   "execution_count": 1,
   "metadata": {
    "collapsed": false
   },
   "outputs": [
    {
     "name": "stderr",
     "output_type": "stream",
     "text": [
      "//anaconda/envs/python3/lib/python3.6/site-packages/IPython/html.py:14: ShimWarning: The `IPython.html` package has been deprecated. You should import from `notebook` instead. `IPython.html.widgets` has moved to `ipywidgets`.\n",
      "  \"`IPython.html.widgets` has moved to `ipywidgets`.\", ShimWarning)\n"
     ]
    }
   ],
   "source": [
    "%matplotlib inline\n",
    "import numpy as np\n",
    "import scipy\n",
    "from scipy import stats\n",
    "from scipy.stats import norm\n",
    "from scipy.stats import beta\n",
    "from scipy.stats import distributions\n",
    "import matplotlib.pyplot as plt\n",
    "import seaborn as sns\n",
    "import pandas as pd\n",
    "import time\n",
    "sns.set_style('white')\n",
    "sns.set_context('paper')\n",
    "from scipy.special import gammaln"
   ]
  },
  {
   "cell_type": "markdown",
   "metadata": {},
   "source": [
    "# APMTH 207: Advanced Scientific Computing: \n",
    "## Stochastic Methods for Data Analysis, Inference and Optimization\n",
    "## Homework #7\n",
    "**Harvard University**<br>\n",
    "**Spring 2017**<br>\n",
    "**Instructors: Rahul Dave**<br>\n",
    "**Due Date: ** Thursday, March 23th, 2017 at 11:59pm\n",
    "\n",
    "**Instructions:**\n",
    "\n",
    "- Upload your final answers as well as your iPython notebook containing all work to Canvas.\n",
    "\n",
    "- Structure your notebook and your work to maximize readability."
   ]
  },
  {
   "cell_type": "markdown",
   "metadata": {
    "collapsed": true
   },
   "source": [
    "## Problem 1: Kidney Cancer Data Revisited\n",
    "In this problem we will work with the US Kidney Cancer Data set (by county). This is a dataset of kidney cancer frequencies across the US over 5 years on a per county basis. \n",
    "\n",
    "In lecture, we've discussed the potential (and significant) draw backs of drawing conclusions based on raw cancer rates. Addressing these draw backs, we proposed using a Bayesian model to model the data. In the following, you will implement two Bayesian models and examine the adjusted cancer rates per county resulting from these models.\n",
    "\n",
    "### Part A: Empirical Bayes\n",
    "Let $N$ be the number of counties; let $y_j$ the number of kidney cancer case for the $j$-th county, $n_j$ the population of the $j$-county and $\\theta_j$ be the underlying kidney cancer rate for that county. The following is a Bayesian model for our data:\n",
    "\\begin{aligned}\n",
    "y_j &\\sim Poisson(5 \\cdot n_j \\cdot \\theta_j), \\quad j = 1, \\ldots, N\\\\\n",
    "\\theta_j &\\sim Gamma(\\alpha, \\beta), \\quad j = 1, \\ldots, N\n",
    "\\end{aligned}\n",
    "where $\\alpha, \\beta$ are hyper-parameters of the model.\n",
    "\n",
    "(1) Using Empirical Bayes and moment matching, choose appropriate values for the hyperparameters. To do this, consider the **prior-predictive** distribution (also called evidence, the denominator normalization of bayes theorem) of the model: \n",
    "\n",
    "$$p(y) = \\int p(y \\vert \\theta) p(\\theta) d \\theta$$.\n",
    "\n",
    "(This is as opposed to the posterior predictive: $\\int p( y \\vert \\theta) p(\\theta \\vert D) d\\theta$. Not that in conjugate models such as ours, these two distributions have the same form)\n",
    "\n",
    "For this model, the prior-predictive is a negative binomial. By matching the mean and the variance of the negative binomial to that from the data you can find $\\alpha$ and $\\beta$. (Hint: You need to be careful with the $5n_j$ multiplier.) Why the prior-predictive? Because you then \"havent seen\" individual county data yet.\n"
   ]
  },
  {
   "cell_type": "code",
   "execution_count": 2,
   "metadata": {
    "collapsed": false
   },
   "outputs": [],
   "source": [
    "cancer_data = pd.read_csv('./kcancer.csv')"
   ]
  },
  {
   "cell_type": "code",
   "execution_count": 3,
   "metadata": {
    "collapsed": false
   },
   "outputs": [
    {
     "data": {
      "text/html": [
       "<div>\n",
       "<table border=\"1\" class=\"dataframe\">\n",
       "  <thead>\n",
       "    <tr style=\"text-align: right;\">\n",
       "      <th></th>\n",
       "      <th>state</th>\n",
       "      <th>fips</th>\n",
       "      <th>county</th>\n",
       "      <th>countyfips</th>\n",
       "      <th>dc</th>\n",
       "      <th>pop</th>\n",
       "      <th>pct_mortality</th>\n",
       "    </tr>\n",
       "  </thead>\n",
       "  <tbody>\n",
       "    <tr>\n",
       "      <th>0</th>\n",
       "      <td>ALABAMA</td>\n",
       "      <td>1</td>\n",
       "      <td>AUTAUGA</td>\n",
       "      <td>1001</td>\n",
       "      <td>1.0</td>\n",
       "      <td>64915.0</td>\n",
       "      <td>0.000015</td>\n",
       "    </tr>\n",
       "    <tr>\n",
       "      <th>1</th>\n",
       "      <td>ALABAMA</td>\n",
       "      <td>1</td>\n",
       "      <td>BALDWIN</td>\n",
       "      <td>1003</td>\n",
       "      <td>15.0</td>\n",
       "      <td>195253.0</td>\n",
       "      <td>0.000077</td>\n",
       "    </tr>\n",
       "    <tr>\n",
       "      <th>2</th>\n",
       "      <td>ALABAMA</td>\n",
       "      <td>1</td>\n",
       "      <td>BARBOUR</td>\n",
       "      <td>1005</td>\n",
       "      <td>1.0</td>\n",
       "      <td>33987.0</td>\n",
       "      <td>0.000029</td>\n",
       "    </tr>\n",
       "    <tr>\n",
       "      <th>3</th>\n",
       "      <td>ALABAMA</td>\n",
       "      <td>1</td>\n",
       "      <td>BIBB</td>\n",
       "      <td>1007</td>\n",
       "      <td>1.0</td>\n",
       "      <td>31175.0</td>\n",
       "      <td>0.000032</td>\n",
       "    </tr>\n",
       "    <tr>\n",
       "      <th>4</th>\n",
       "      <td>ALABAMA</td>\n",
       "      <td>1</td>\n",
       "      <td>BLOUNT</td>\n",
       "      <td>1009</td>\n",
       "      <td>5.0</td>\n",
       "      <td>91547.0</td>\n",
       "      <td>0.000055</td>\n",
       "    </tr>\n",
       "    <tr>\n",
       "      <th>5</th>\n",
       "      <td>ALABAMA</td>\n",
       "      <td>1</td>\n",
       "      <td>BULLOCK</td>\n",
       "      <td>1011</td>\n",
       "      <td>0.0</td>\n",
       "      <td>8197.0</td>\n",
       "      <td>0.000000</td>\n",
       "    </tr>\n",
       "    <tr>\n",
       "      <th>6</th>\n",
       "      <td>ALABAMA</td>\n",
       "      <td>1</td>\n",
       "      <td>BUTLER</td>\n",
       "      <td>1013</td>\n",
       "      <td>1.0</td>\n",
       "      <td>31722.0</td>\n",
       "      <td>0.000032</td>\n",
       "    </tr>\n",
       "    <tr>\n",
       "      <th>7</th>\n",
       "      <td>ALABAMA</td>\n",
       "      <td>1</td>\n",
       "      <td>CALHOUN</td>\n",
       "      <td>1015</td>\n",
       "      <td>12.0</td>\n",
       "      <td>233021.0</td>\n",
       "      <td>0.000051</td>\n",
       "    </tr>\n",
       "    <tr>\n",
       "      <th>8</th>\n",
       "      <td>ALABAMA</td>\n",
       "      <td>1</td>\n",
       "      <td>CHAMBERS</td>\n",
       "      <td>1017</td>\n",
       "      <td>0.0</td>\n",
       "      <td>57813.0</td>\n",
       "      <td>0.000000</td>\n",
       "    </tr>\n",
       "    <tr>\n",
       "      <th>9</th>\n",
       "      <td>ALABAMA</td>\n",
       "      <td>1</td>\n",
       "      <td>CHEROKEE</td>\n",
       "      <td>1019</td>\n",
       "      <td>0.0</td>\n",
       "      <td>43828.0</td>\n",
       "      <td>0.000000</td>\n",
       "    </tr>\n",
       "  </tbody>\n",
       "</table>\n",
       "</div>"
      ],
      "text/plain": [
       "     state  fips    county  countyfips    dc       pop  pct_mortality\n",
       "0  ALABAMA     1   AUTAUGA        1001   1.0   64915.0       0.000015\n",
       "1  ALABAMA     1   BALDWIN        1003  15.0  195253.0       0.000077\n",
       "2  ALABAMA     1   BARBOUR        1005   1.0   33987.0       0.000029\n",
       "3  ALABAMA     1      BIBB        1007   1.0   31175.0       0.000032\n",
       "4  ALABAMA     1    BLOUNT        1009   5.0   91547.0       0.000055\n",
       "5  ALABAMA     1   BULLOCK        1011   0.0    8197.0       0.000000\n",
       "6  ALABAMA     1    BUTLER        1013   1.0   31722.0       0.000032\n",
       "7  ALABAMA     1   CALHOUN        1015  12.0  233021.0       0.000051\n",
       "8  ALABAMA     1  CHAMBERS        1017   0.0   57813.0       0.000000\n",
       "9  ALABAMA     1  CHEROKEE        1019   0.0   43828.0       0.000000"
      ]
     },
     "execution_count": 3,
     "metadata": {},
     "output_type": "execute_result"
    }
   ],
   "source": [
    "cancer_data.head(10)"
   ]
  },
  {
   "cell_type": "markdown",
   "metadata": {},
   "source": [
    "# Estimate $\\alpha$ and $\\beta$ based on the prior"
   ]
  },
  {
   "cell_type": "markdown",
   "metadata": {},
   "source": [
    "From matching the mean and the variance of the prior to the moments of the gamma distribution, the values of $\\alpha$ and $\\beta$ can be calculated:\n",
    "\n",
    "$$ \\mu = \\frac{\\alpha}{\\beta} $$\n",
    "$$ \\sigma^2 = \\frac{\\alpha}{\\beta^2} $$"
   ]
  },
  {
   "cell_type": "code",
   "execution_count": 4,
   "metadata": {
    "collapsed": false
   },
   "outputs": [],
   "source": [
    "mu = (cancer_data['dc']/(5*cancer_data['pop'])).mean()\n",
    "sigma2 = (cancer_data['dc']/(5*cancer_data['pop'])).var()\n",
    "sum_yi = cancer_data['dc'].sum()\n",
    "N = cancer_data.shape[0]"
   ]
  },
  {
   "cell_type": "code",
   "execution_count": 5,
   "metadata": {
    "collapsed": false
   },
   "outputs": [
    {
     "data": {
      "text/plain": [
       "(1.1573104708217251e-05, 1.0113340787478788e-10)"
      ]
     },
     "execution_count": 5,
     "metadata": {},
     "output_type": "execute_result"
    }
   ],
   "source": [
    "mu, sigma2"
   ]
  },
  {
   "cell_type": "code",
   "execution_count": 6,
   "metadata": {
    "collapsed": true
   },
   "outputs": [],
   "source": [
    "beta_emp = mu/sigma2\n",
    "alpha_emp = mu*beta_emp"
   ]
  },
  {
   "cell_type": "code",
   "execution_count": 7,
   "metadata": {
    "collapsed": false
   },
   "outputs": [
    {
     "data": {
      "text/plain": [
       "(1.3243571575595068, 114434.04263154842)"
      ]
     },
     "execution_count": 7,
     "metadata": {},
     "output_type": "execute_result"
    }
   ],
   "source": [
    "alpha_emp,beta_emp"
   ]
  },
  {
   "cell_type": "code",
   "execution_count": 8,
   "metadata": {
    "collapsed": false
   },
   "outputs": [],
   "source": [
    "thetas = []\n",
    "for i in range(N):\n",
    "    y_j = cancer_data['dc'].iloc[i]\n",
    "    n_j = cancer_data['pop'].iloc[i]\n",
    "    thetas.append(np.random.gamma(alpha_emp+y_j, 1/(beta_emp+5*n_j), size=10000).mean())\n",
    "thetas = np.array(thetas) # need the per year rate"
   ]
  },
  {
   "cell_type": "markdown",
   "metadata": {},
   "source": [
    "## Estimate $\\alpha$ and $\\beta$ based on the prior predictive\n",
    "\n",
    "$$\\mu = \\frac{(\\alpha + \\sum y_i)}{(\\beta+5*n_j)}$$\n",
    "\n",
    "$$\\sigma^2 = \\frac{(\\alpha + \\sum y_i)}{(\\beta + 5*n_j)^2}(\\beta +5*n_j+1)$$\n",
    "\n",
    "$$\\sigma^2 = \\frac{\\mu(5*n_j+\\beta+1)}{(\\beta + 5*n_j)}$$\n",
    "\n",
    "$$(\\beta + 5*n_j)\\sigma^2 = \\mu(5*n_j+\\beta+1)$$\n",
    "\n",
    "$$ (\\sigma^2 - \\mu) \\beta = -5*n_j(\\sigma^2) + \\mu 5*n_j + \\mu $$\n",
    "\n",
    "$$\\beta = \\frac{-5*n_j(\\sigma^2) + \\mu 5*n_j + \\mu}{(\\sigma^2 - \\mu)} $$\n",
    "\n",
    "$$ \\alpha = \\mu(\\beta+5*n_j) - \\sum y_i $$"
   ]
  },
  {
   "cell_type": "code",
   "execution_count": 9,
   "metadata": {
    "collapsed": true
   },
   "outputs": [],
   "source": [
    "mu_ = cancer_data['dc'].mean()\n",
    "sigma2_ = cancer_data['dc'].var()\n",
    "n_j_mean = cancer_data['pop'].mean()"
   ]
  },
  {
   "cell_type": "code",
   "execution_count": 10,
   "metadata": {
    "collapsed": false
   },
   "outputs": [],
   "source": [
    "beta1 = (5*cancer_data['pop']*cancer_data['dc']).mean()/(sigma2_ - mu_)"
   ]
  },
  {
   "cell_type": "code",
   "execution_count": 11,
   "metadata": {
    "collapsed": false
   },
   "outputs": [
    {
     "data": {
      "text/plain": [
       "113737.85828851697"
      ]
     },
     "execution_count": 11,
     "metadata": {},
     "output_type": "execute_result"
    }
   ],
   "source": [
    "beta1"
   ]
  },
  {
   "cell_type": "code",
   "execution_count": 14,
   "metadata": {
    "collapsed": false
   },
   "outputs": [],
   "source": [
    "alpha1 = ((beta1*cancer_data['dc'])/(5*cancer_data['pop'])).mean()"
   ]
  },
  {
   "cell_type": "code",
   "execution_count": 15,
   "metadata": {
    "collapsed": false
   },
   "outputs": [
    {
     "data": {
      "text/plain": [
       "1.3163001432613823"
      ]
     },
     "execution_count": 15,
     "metadata": {},
     "output_type": "execute_result"
    }
   ],
   "source": [
    "alpha1"
   ]
  },
  {
   "cell_type": "code",
   "execution_count": 190,
   "metadata": {
    "collapsed": true
   },
   "outputs": [],
   "source": [
    "beta_ = -(mu_)/(sigma2_ - mu_*5*n_j_mean)"
   ]
  },
  {
   "cell_type": "code",
   "execution_count": 192,
   "metadata": {
    "collapsed": false
   },
   "outputs": [
    {
     "data": {
      "text/plain": [
       "(802494.48170209769, 22886.808526308301)"
      ]
     },
     "execution_count": 192,
     "metadata": {},
     "output_type": "execute_result"
    }
   ],
   "source": [
    "1/beta_, beta_emp"
   ]
  },
  {
   "cell_type": "code",
   "execution_count": 193,
   "metadata": {
    "collapsed": true
   },
   "outputs": [],
   "source": [
    "alpha_ = mu_*5*beta_*n_j_mean"
   ]
  },
  {
   "cell_type": "code",
   "execution_count": 194,
   "metadata": {
    "collapsed": false
   },
   "outputs": [
    {
     "data": {
      "text/plain": [
       "8.3524539333037531"
      ]
     },
     "execution_count": 194,
     "metadata": {},
     "output_type": "execute_result"
    }
   ],
   "source": [
    "alpha_"
   ]
  },
  {
   "cell_type": "code",
   "execution_count": 219,
   "metadata": {
    "collapsed": true
   },
   "outputs": [],
   "source": [
    "thetas = []\n",
    "for i in range(N):\n",
    "    y_j = cancer_data['dc'].iloc[i]\n",
    "    n_j = cancer_data['pop'].iloc[i]\n",
    "    thetas.append(np.random.gamma(alpha_+y_j, 1/((1/beta_)+5*n_j), size=10000).mean())\n",
    "thetas = np.array(thetas) # need the per year rate"
   ]
  },
  {
   "cell_type": "markdown",
   "metadata": {},
   "source": [
    "### Part 1"
   ]
  },
  {
   "cell_type": "markdown",
   "metadata": {},
   "source": [
    "(2) Produce a scatter plot of the raw cancer rates (pct mortality) vs the county population size. Highlight the top 300 raw cancer rates in red. Highlight the bottom 300 raw cancer rates in blue. Finally, on the same plot again, scatter plot the posterior mean cancer rate estimates (pct mortality) vs the county population size, highlight these in green. \n",
    "\n",
    "(**Note:** This is the plot (without the corrected green estimates) shown in the lecture notes for this dataset. We have provided the code to produce this plot, which you are free to use or to ignore.)\n",
    "\n",
    "\n",
    "(3) Using the scatter plot, explain why using the posterior means (from our model) to estimate cancer rates is preferable to studying the raw rates themselves.\n",
    "\n",
    "(**Hint:** You might find it helpful to review the in-class discussion on this dataset. You might also find it helpful to follow the Rat Tumor Baysian model example.)\n"
   ]
  },
  {
   "cell_type": "code",
   "execution_count": 238,
   "metadata": {
    "collapsed": true
   },
   "outputs": [],
   "source": [
    "# data_df is the dataframe of your data\n",
    "# estimates is a numpy array of cancer rate estimates, one for each county\n",
    "def scatter_plot_cancer_rates(data_df, estimates):\n",
    "    ax = data_df.plot(kind='scatter', x=\"pop\",y=\"pct_mortality\", alpha=0.05, color=\"grey\", figsize=(10,10))\n",
    "    # NOTE:if you have an older pandas version you should use \n",
    "    # \"data_df.sort\" instead of \"data_df.sort_values\"\n",
    "    bot_kcancer_counties = data_df.sort_values(by='pct_mortality',ascending=True)[:300]\n",
    "    top_kcancer_counties = data_df.sort_values(by='pct_mortality',ascending=False)[:300]\n",
    "    top_kcancer_counties.plot(kind='scatter',x=\"pop\",y=\"pct_mortality\",alpha=0.07, color=\"blue\", ax=ax, logx=True)\n",
    "    bot_kcancer_counties.plot(kind='scatter',x=\"pop\",y=\"pct_mortality\",alpha=0.07, color=\"red\", ax=ax, logx=True)\n",
    "    ax.plot(data_df['pop'], 5 * estimates, '.', alpha=0.1, color=\"green\")\n",
    "    ax.set_ylim([-0.0001, 0.0003])\n",
    "    ax.grid()"
   ]
  },
  {
   "cell_type": "code",
   "execution_count": 239,
   "metadata": {
    "collapsed": false
   },
   "outputs": [
    {
     "data": {
      "image/png": "[encoded data removed]",
      "text/plain": [
       "<matplotlib.figure.Figure at 0x122951da0>"
      ]
     },
     "metadata": {},
     "output_type": "display_data"
    }
   ],
   "source": [
    "scatter_plot_cancer_rates(cancer_data, np.array(thetas))"
   ]
  },
  {
   "cell_type": "markdown",
   "metadata": {},
   "source": [
    "## Explain why using the posterior means (from our model) to estimate cancer rates is preferable to studying the raw rates themselves\n",
    "\n",
    "The raw cancer mortality rates are skewed by the population size of the county. For counties with very small populations, even small numbers of cancer deaths can result in the mortality rate being very large. It therefore does not provide a useful metric for comparing mortality rates between counties. \n",
    "\n",
    "When the mortatlity rates are assumed to come from a common prior gamma distribution with the empirically estimated parameters, there is a pooling effect where all the mortality rate are pushed towards the group mean (~0.000005) and there are fewer extreme values. The population size has a smaller effect on the percentage mortality. "
   ]
  },
  {
   "cell_type": "markdown",
   "metadata": {},
   "source": [
    "### Part B: Full Bayes\n",
    "Rather than estimating the hyperparameters $\\alpha, \\beta$ from the data, in a full Bayesian model we would put additional priors on quantities of which we are uncertain. That is, we can model the kidney cancer rates using a *hierarchical model*.\n",
    "\\begin{aligned}\n",
    "y_j &\\sim Poisson(5 \\cdot n_j \\cdot \\theta_j), \\quad j = 1, \\ldots, N\\\\\n",
    "\\theta_j &\\sim Gamma(\\alpha, \\beta), \\quad j = 1, \\ldots, N\\\\\n",
    "\\alpha &\\sim Gamma(a, b)\\\\\n",
    "\\beta &\\sim Gamma(c, d)\n",
    "\\end{aligned}\n",
    "where $a, b, c, d$ are hyperparameters. \n",
    "\n",
    "\n",
    "(1) Analytically derive the full conditional, up constants that are inconsequential for sampling, for each variable in the model. \n",
    "  "
   ]
  },
  {
   "cell_type": "markdown",
   "metadata": {},
   "source": [
    "Start with the joint and then derive the individual conditionals \n",
    "\\begin{aligned}\n",
    "p(\\theta_j, y_j, \\mu, \\sigma,\\alpha, \\beta, a,b,c,d) =  p(y_j|\\theta_j)*p(\\theta_j|\\alpha, \\beta)*  p(\\alpha|a,b)*p(\\beta|c,d)*p(a)*p(b)*p(c)*p(d)\n",
    "\\end{aligned}\n",
    "\n",
    "\\begin{aligned}\n",
    "p(\\theta_j | y_j,  \\mu, \\sigma) = p(y_j|\\theta_j)*p(\\theta_j|\\alpha, \\beta) \\\\\n",
    "\\end{aligned}\n",
    "\n",
    "We know that the prior is modelled with a Gamma function and the likelihood with a poission distribution, therefore by conjugacy of the Poission-Gamma model the posterior for $\\theta$ is a Gamma function as well. We can prove this as follows:\n",
    "\n",
    "\\begin{aligned}\n",
    "p(\\theta_j | y_j, \\mu, \\sigma) \\propto \\left(\\frac{{5n_j\\theta_j}^y_j e^{-5n_j\\theta_j}}{y_j!}\\right)* \\left(\\frac{{\\beta}^\\alpha}{\\Gamma(a)}\\right)\\theta_j^{\\alpha -1}e^{-\\beta\\theta_j}\\\\\n",
    "\\end{aligned}\n",
    "\n",
    "Grouping similar terms together:\n",
    "\n",
    "\\begin{aligned}\n",
    "p(\\theta_j | y_j, \\mu, \\sigma) \\propto \\theta_j^{y_j+\\alpha -1} e^{-(5n_j + \\beta)\\theta_j}\\\\\n",
    "\\end{aligned}\n",
    "\n",
    "\\begin{aligned}\n",
    "p(\\theta_j | y_j, \\mu, \\sigma) \\propto \\theta_j^{y_j+\\alpha -1} e^{-(5n_j + \\beta)\\theta_j}\\\\\n",
    "\\end{aligned}\n",
    "\n",
    "\\begin{aligned}\n",
    "p(\\theta_j | y_j, \\mu, \\sigma) \\propto \\left(\\frac{(\\beta+5n_j)\\theta_j^{y_j+\\alpha -1} e^{-(5n_j + \\beta)\\theta_j}}{\\Gamma(\\alpha + y_i)}\\right)\\\\\n",
    "\\end{aligned}\n",
    "\n",
    "\\begin{aligned}\n",
    "p(\\theta_j | y_j, \\alpha, \\beta) \\propto Gamma\\left(\\theta_j; y_j + \\alpha, \\beta + 5n_j\\right)\\\\\n",
    "\\end{aligned}\n",
    "\n",
    "For $\\alpha$ and $\\beta$ the conditional distribution can be derived as follows:\n",
    "\n",
    "\\begin{aligned}\n",
    "p(\\alpha, \\beta|\\theta_j, y_j, \\sigma^2) =  \\prod_j p(\\theta_j|\\alpha, \\beta)*p(\\alpha| a,b)*p(\\beta| c,d)\n",
    "\\end{aligned}\n",
    "\n",
    "Substituting in gamma pdfs:\n",
    "\n",
    "\\begin{aligned}\n",
    "p(\\alpha, \\beta|\\theta_j, y_j, \\sigma^2) =  \\prod_j \\left(\\frac{{\\beta}^\\alpha}{\\Gamma(\\alpha)}\\theta_j^{a-1}e^{-\\theta_j \\beta}\\right) \\left(\\frac{{b}^a}{\\Gamma(a)}\\alpha^{a-1}e^{-\\alpha b}\\right) \\left(\\frac{{d}^c}{\\Gamma(c)}\\beta^{c-1}e^{-\\beta d}\\right)\n",
    "\\end{aligned}\n",
    "\n",
    "This can be rearranged to the form:\n",
    "\n",
    "\\begin{aligned}\n",
    "p(\\alpha, \\beta|\\theta_j, y_j, \\sigma^2) =  \\left(\\frac{{b}^a}{\\Gamma(a)}\\alpha^{a-1}e^{-\\alpha b}\\right) \\left(\\frac{{d}^c}{\\Gamma(c)}\\beta^{c-1}e^{-\\beta d}\\right) \\frac{{\\beta}^{N\\alpha}}{\\Gamma(\\alpha)^N} \\prod_j \\left(\\theta_j^{a-1}e^{-\\theta_j \\beta}\\right)\n",
    "\\end{aligned}\n",
    "\n",
    "\\begin{aligned}\n",
    "p(\\alpha, \\beta|\\theta_j, y_j, \\sigma^2) =  \\left(\\frac{{b}^a}{\\Gamma(a)}\\alpha^{a-1}e^{-\\alpha b}\\right) \\left(\\frac{{d}^c}{\\Gamma(c)}\\beta^{c-1}e^{-\\beta d}\\right) \\beta^{N\\alpha}\\Gamma(\\alpha)^{-N} \\prod_j \\left(\\theta_j^{a-1}\\right)e^{-\\beta\\sum_j\\theta_j}\n",
    "\\end{aligned}\n",
    "\n",
    "\\begin{aligned}\n",
    "p(\\alpha, \\beta | y_j, \\theta_j, \\sigma^2) &\\propto \\beta^{N\\alpha}\\Gamma(\\alpha)^{-N}\\prod_j\\theta_j^{\\alpha} \\exp\\left\\{ - \\beta\\sum_j \\theta_j \\right\\} * Gamma\\left(\\alpha; a, b \\right) * Gamma\\left(\\beta; c, d \\right) \\\\\n",
    "\\end{aligned}\n",
    "\n",
    "The term: \n",
    "\n",
    "$$\\beta^{N\\alpha}\\Gamma(\\alpha)^{-N}\\prod_j\\theta_j^{\\alpha} \\exp\\left\\{ - \\beta\\sum_j \\theta_j \\right\\}$$\n",
    "\n",
    "is the product of gamma pdfs evaluated at each value of theta. "
   ]
  },
  {
   "cell_type": "markdown",
   "metadata": {},
   "source": [
    "A possible set of correct final forms of your conditionals looks like the following:\n",
    "      \n",
    "\\begin{aligned}\n",
    "p(\\theta_j | y_j, \\mu, \\sigma) &\\propto Gamma\\left(\\theta_j; y_j + \\alpha, \\beta + 5n_j\\right)\\\\\n",
    "p(\\alpha, \\beta | y_j, \\theta_j, \\sigma^2) &\\propto \\beta^{N\\alpha}\\Gamma(\\alpha)^{-N} \\prod_j\\theta_j^{\\alpha} \\exp\\left\\{ - \\beta\\sum_j \\theta_j \\right\\} * Gamma\\left(\\alpha; a, b \\right) * Gamma\\left(\\beta; c, d \\right) \\\\\n",
    "\\end{aligned}\n",
    "\n",
    "\n",
    "\n",
    "(2) Implement a Metropolis-Hastings-in-Gibbs sampler (like in rat tumors) to produce sets of theta-values, $\\{ \\theta_j: j = 1, \\ldots, N\\}$. Note that for updating some variables, you may need to use a Metropolis-Hastings step (see Rat Tumor example). \n",
    "\n",
    "  We suggest the following settings for your MH-in-Gibbs sampler, but please feel free to use your own:\n",
    "  \n",
    "  - Gibbs sweeps: 100,000\n",
    "  - $a = 9, b = 6, c = 9, d = 0.00001$\n",
    "  - Starting points: $\\alpha_0 = \\alpha_{\\text{emperical bayes}}, \\beta_0 = \\beta_{\\text{emperical bayes}}$\n",
    "  - proposal distribution: $\\mathcal{N}\\left([\\alpha, \\beta], \\left[\\begin{array}{cc} 0.1 & 0 \\\\ 0 & 1000\\end{array}\\right]\\right)$\n",
    "  - burn in: 10%\n",
    "  - thinning: 10\n",
    "  \n",
    "  We do not guarantee convergence after 100,000 sets of samples under these conditions. In fact, ***convergence in a untweaked sampler maybe unlikely after only 100,000 Gibbs sweeps***. \n",
    "\n",
    "  You are responsible for performing your own convergence tests and diagnostics.\n",
    "\n",
    "  **Note:** to sanity check your implementation, you may wish to implement this model in PyMC3 and compare your results. Note that because you model is hand tuned to deal with the conditionals and to sample straight away from the Gamma's, it will likely run faster)\n",
    "  \n",
    "  \n",
    "\n",
    "- **Extra Credit:** Tweak the settings in your sampler (including number of sweeps) in order to achieve convergence. For example, do you need to sample $\\alpha$ and $\\beta$ jointly? Can sampling them individually speed up your sampler? Only do this after you have a complete homework. It is a rabbit hole.\n",
    "\n",
    "\n",
    "\n",
    "(3) Using your samples, produce a pct mortality vs county population scatter plot exactly as in Part A."
   ]
  },
  {
   "cell_type": "code",
   "execution_count": null,
   "metadata": {
    "collapsed": false
   },
   "outputs": [],
   "source": [
    "a = 9\n",
    "b = 6\n",
    "c = 9\n",
    "d = 0.00001\n",
    "\n",
    "def proposal(alp,bet):\n",
    "    cov = [[0.001, 0], [0, 1000]]\n",
    "    return np.random.multivariate_normal([alp,bet], cov)\n",
    "\n",
    "prior_a = stats.gamma(a,scale=1.0/b)\n",
    "\n",
    "prior_b = stats.gamma(c,scale=1.0/d)\n",
    "\n",
    "likelihood_theta = lambda alp, bet: stats.gamma(alp,scale=1.0/bet)"
   ]
  },
  {
   "cell_type": "code",
   "execution_count": null,
   "metadata": {
    "collapsed": true
   },
   "outputs": [],
   "source": [
    "numthetas=cancer_data.shape[0]\n",
    "\n",
    "# sampling from conditional posterior for the theta\n",
    "draw_thetas = lambda a_,b_: stats.gamma.rvs(a_+cancer_data['dc'],scale=1.0/(b_+5*cancer_data['pop']), size=numthetas)\n",
    "\n",
    "# conditional posterior (pdf) for alpha beta\n",
    "def log_cond_alpha_beta(alp,bet, thetas):\n",
    "    return np.sum(np.log(likelihood_theta(alp, bet).pdf(thetas))) + np.log(prior_a.pdf(alp)) + np.log(prior_b.pdf(bet))\n",
    "\n",
    "# using the above pdfs we draw for alpha and beta in MH fashion\n",
    "def draw_alpha_beta(alp,bet,thetas,proposal, accepts):\n",
    "    alp_star, bet_star = proposal(alp, bet)  # propose a new alpha and beta\n",
    "    num = log_cond_alpha_beta(alp_star,bet_star, thetas) \n",
    "    den = log_cond_alpha_beta(alp,bet, thetas)\n",
    "    R=np.random.rand()\n",
    "    if (np.log(R) <= num - den): \n",
    "        accepted=1\n",
    "    else:\n",
    "        accepted=0\n",
    "    accepts['alpha_beta'] = accepts['alpha_beta'] + accepted\n",
    "    if accepted:\n",
    "        return alp_star, bet_star\n",
    "    else:\n",
    "        return alp, bet"
   ]
  },
  {
   "cell_type": "code",
   "execution_count": null,
   "metadata": {
    "collapsed": false
   },
   "outputs": [],
   "source": [
    "totaltraces=100000\n",
    "burnin=0.1*totaltraces\n",
    "\n",
    "alphas=np.empty(totaltraces)\n",
    "betas=np.empty(totaltraces)\n",
    "thetas=np.empty((totaltraces, numthetas))\n",
    "\n",
    "# start positions\n",
    "alphas[0]=alpha_emp\n",
    "betas[0]=beta_emp\n",
    "thetas[0,:] = 0.0001\n"
   ]
  },
  {
   "cell_type": "code",
   "execution_count": null,
   "metadata": {
    "collapsed": false
   },
   "outputs": [],
   "source": [
    "start = time.clock()\n",
    "accepteds={'alpha_beta':0}\n",
    "for m in np.arange(1,totaltraces):\n",
    "    if (m%10000 == 0):\n",
    "        print(m)\n",
    "    alphas[m], betas[m] = draw_alpha_beta(alphas[m-1],betas[m-1],thetas[m-1,:], proposal, accepteds)\n",
    "    thetas[m,:] = draw_thetas(alphas[m],betas[m])\n",
    "\n",
    "print(\"sampling took: \", time.clock()-start, \" seconds.\")"
   ]
  },
  {
   "cell_type": "code",
   "execution_count": null,
   "metadata": {
    "collapsed": false
   },
   "outputs": [],
   "source": [
    "accepteds['alpha_beta']"
   ]
  },
  {
   "cell_type": "code",
   "execution_count": null,
   "metadata": {
    "collapsed": false
   },
   "outputs": [],
   "source": [
    "accepteds['alpha_beta']/totaltraces"
   ]
  },
  {
   "cell_type": "code",
   "execution_count": null,
   "metadata": {
    "collapsed": false
   },
   "outputs": [],
   "source": [
    "#remove burnin samples and thin\n",
    "thin=10\n",
    "burnin=1000\n",
    "alphatrace=alphas[burnin+1:totaltraces:thin]\n",
    "betatrace=betas[burnin+1:totaltraces:thin]\n",
    "thetastrace=thetas[burnin+1:totaltraces:thin,:]\n",
    "print(thetastrace.shape, alphatrace.shape)"
   ]
  },
  {
   "cell_type": "code",
   "execution_count": null,
   "metadata": {
    "collapsed": false
   },
   "outputs": [],
   "source": [
    "plt.figure(figsize=[12,6])\n",
    "plt.subplot(1,2,1)\n",
    "plt.plot(alphas)\n",
    "plt.ylabel('alpha')\n",
    "plt.subplot(1,2,2)\n",
    "plt.plot(betas)\n",
    "plt.ylabel('beta')"
   ]
  },
  {
   "cell_type": "code",
   "execution_count": null,
   "metadata": {
    "collapsed": false
   },
   "outputs": [],
   "source": [
    "plt.plot(thetastrace[:, 100])"
   ]
  },
  {
   "cell_type": "code",
   "execution_count": null,
   "metadata": {
    "collapsed": true
   },
   "outputs": [],
   "source": [
    "def corrplot(trace, maxlags=50):\n",
    "    plt.acorr(trace-np.mean(trace),  normed=True, maxlags=maxlags);\n",
    "    plt.xlim([0, maxlags])"
   ]
  },
  {
   "cell_type": "code",
   "execution_count": null,
   "metadata": {
    "collapsed": false
   },
   "outputs": [],
   "source": [
    "corrplot(thetastrace[:, 100])"
   ]
  },
  {
   "cell_type": "code",
   "execution_count": null,
   "metadata": {
    "collapsed": false
   },
   "outputs": [],
   "source": [
    "scatter_plot_cancer_rates(cancer_data, np.mean(thetastrace, axis=0))"
   ]
  },
  {
   "cell_type": "markdown",
   "metadata": {
    "collapsed": true
   },
   "source": [
    "With a full bayesian model, there are hyperpriors on  alpha and beta which themselves are uncertain and have variability. \n",
    "\n",
    "Compared to the purely empirical Bayes, with the fully Bayesian model, the perecent mortality has slightly more variation with population and there is a larger distribution of mortality rates about the group mean. \n",
    "\n",
    "Overall, the result of the model is to reduce the extreme values of of percentage mortality caused by having either very small or very large population sizes. There is a smaller overall range in the mortality rates comapred to the raw estimates of mortality based purely on the counts of incidence and population. "
   ]
  }
 ],
 "metadata": {
  "anaconda-cloud": {},
  "kernelspec": {
   "display_name": "Python 3",
   "language": "python",
   "name": "python3"
  },
  "language_info": {
   "codemirror_mode": {
    "name": "ipython",
    "version": 3
   },
   "file_extension": ".py",
   "mimetype": "text/x-python",
   "name": "python",
   "nbconvert_exporter": "python",
   "pygments_lexer": "ipython3",
   "version": "3.6.0"
  }
 },
 "nbformat": 4,
 "nbformat_minor": 1
}
