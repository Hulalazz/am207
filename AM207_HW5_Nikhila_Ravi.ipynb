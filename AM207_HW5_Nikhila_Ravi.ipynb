{
 "cells": [
  {
   "cell_type": "code",
   "execution_count": 63,
   "metadata": {
    "collapsed": false
   },
   "outputs": [],
   "source": [
    "%matplotlib inline\n",
    "import numpy as np\n",
    "import seaborn as sns\n",
    "import matplotlib as mpl\n",
    "import matplotlib.pyplot as plt\n",
    "import pandas as pd\n",
    "import time\n",
    "from scipy import stats\n",
    "from scipy.stats import norm\n",
    "from scipy.stats import uniform\n",
    "import warnings\n",
    "import scipy.integrate as integrate\n",
    "\n",
    "warnings.simplefilter('ignore')\n",
    "import math\n",
    "mpl.rcParams['xtick.labelsize'] = 16\n",
    "mpl.rcParams['ytick.labelsize'] = 16\n",
    "mpl.rcParams['axes.labelsize'] = 16\n",
    "mpl.rcParams['axes.titlesize'] = 16\n",
    "mpl.rcParams['legend.fontsize'] = 16"
   ]
  },
  {
   "cell_type": "markdown",
   "metadata": {},
   "source": [
    "# APMTH 207: Advanced Scientific Computing: \n",
    "## Stochastic Methods for Data Analysis, Inference and Optimization\n",
    "## Homework #5\n",
    "**Harvard University**<br>\n",
    "**Spring 2017**<br>\n",
    "**Instructors: Rahul Dave**<br>\n",
    "**Due Date: ** Thursday, March 2nd, 2017 at 11:59pm\n",
    "\n",
    "**Instructions:**\n",
    "\n",
    "- Upload your final answers as well as your iPython notebook containing all work to Canvas.\n",
    "\n",
    "- Structure your notebook and your work to maximize readability."
   ]
  },
  {
   "cell_type": "markdown",
   "metadata": {
    "collapsed": true
   },
   "source": [
    "## Problem 1: Monte Carlo and Simulation Revisited\n",
    "In Homework #2, we used simulation to compute the expected values of functions of random variables. That is, given a random variable $X$, defined over $\\mathbb{R}$, distributed according to the pdf $f_X$, and given a real-valued function of $X$, $h(X)$, we approximated $\\mathbb{E}[h(X)]$ as follows\n",
    "$$\n",
    "\\mathbb{E}[h(X)] = \\int_{\\mathbb{R}} h(x)f_X(x) dx \\approx \\frac{1}{N} \\sum_{i=1}^N h(X_i), \\quad X_i \\sim f_X\n",
    "$$\n",
    "\n",
    "Now, suppose that, instead of being given the distribution $f_X$ and $h(X)$, you were simply asked to evaluate the following complex integral:\n",
    "$$\n",
    "I=\\int_{0}^{\\infty} \\frac{x^4\\, \\sin\\left(\\sqrt{\\ln{(x+1)}}\\right)e^{-x}}{2+(x-4)^2} \\, dx \n",
    "$$\n",
    "A clever way to apply our Monte Carlo techniques would be to split the integrand as $h(x)f_X(x)$, and then approximate the integral as we have done in Homework #2:\n",
    "$$\n",
    "I = \\int_{0}^{\\infty} h(x)\\,f_X(x) dx  \\approx \\frac{1}{N} \\sum\\limits_{i=1}^{N} h(X_i)$$ \n",
    "where the $X_i$'s are independently drawn from $f_X(x)$. \n",
    "\n",
    "We denote the approximation of the integral as follows\n",
    "$$\\hat{I} = \\frac{1}{N} \\sum\\limits_{i=1}^{N} h(X_i), \\quad X_i \\sim f_X.$$\n",
    "\n",
    "\n",
    "### Part A:\n",
    "\n",
    "Rewrite your integrand as a product of two functions, $h(x)g(x)$, which can then be expressed as $h(x)f_X(x)$, where $f_X$ is a pdf (you may use one of the splits we propose in Part B or create your own). Explain why your choice of $h$ is appropriate. Explain why your choice of $g$ is appropriate for creating a pdf $f_X$.\n",
    "\n",
    "(**Hint:** think about what you would have to do do turn $g$ into a good pdf and $h$ into a function that can be evaluated at multiple samples from this pdf. Think about how to choose these two functions to make your Monte Carlo approximation of $I$ as accurate as possible.)\n",
    "\n",
    "\n",
    "### Part B:\n",
    "\n",
    "- Use $\\frac{1}{2+(x-4)^2}$ to create your pdf $f_X$. Implement a Metropolis algorithm to sample from $f_X$. Run the simulation 50 times for 150,000 points. Report the value of $\\hat{I}$ and that of Var[${\\hat{I}}$].\n",
    "\n",
    "\n",
    "- Use $xe^{-x}$ to create your pdf $f_X$. Implement a Metropolis algorithm to sample from $f_X$. Run the simulation 50 times for 150,000 points. Report the value of $\\hat{I}$ and that of Var[${\\hat{I}}$].\n",
    "\n",
    "\n",
    "- Compare the variance of your two estimates. Which choice of $f_X$ is better? Explain why."
   ]
  },
  {
   "cell_type": "markdown",
   "metadata": {},
   "source": [
    "### Part A\n",
    "\n",
    "The integrand can be rewritten as a product of two functions:\n",
    "\n",
    "$$ \n",
    "I=\\int_{0}^{\\infty} h_(x)g_(x)\\, dx \n",
    "$$\n",
    "\n",
    "In deciding on an appropriate split to make the Monte Carlo approximation of  $I$  as accurate as possible:\n",
    "- the support of $g(x)$ should include the full support of $h(x)$\n",
    "- $g(x)$ should either already be a pdf or it should be integrable so the normalising constant can be calculated to turn it into a pdf\n",
    "- the peaks of $g(x)$ should be in regions where $h(x)$ is changing rapidly/has most mass - we need as many values as possible where the function is high\n",
    "\n",
    "An appropriate choice for h(x) would be :\n",
    "\n",
    "$$ h(x) =  \\frac{x^3\\, \\sin\\left(\\sqrt{\\ln{(x+1)}}\\right)}{2+(x-4)^2} $$\n",
    "\n",
    "and the corresponding $g(x)$ would be :\n",
    "\n",
    "$$ g(x) = xe^{-x} $$\n",
    "\n",
    "as this is already a valid pdf. \n",
    "\n",
    "\n",
    "### Part B\n",
    "\n",
    "Option 1:\n",
    "\n",
    "$$ h_1(x) = x^4\\, \\sin\\left(\\sqrt{\\ln{(x+1)}}\\right)e^{-x} $$\n",
    "\n",
    "$$ g_1(x) =  \\frac{1}{2+(x-4)^2} $$\n",
    "\n",
    "The pdf $f_{X1}(x)$ is found by normalising the function $g_1(x)$\n",
    "\n",
    "$$ f_{X1}(x) = \\frac{1}{1.9811}\\frac{1}{2+(x-4)^2} $$\n",
    "\n",
    "Therefore the integral becomes:\n",
    "\n",
    "$$ \n",
    "I= 1.9811 \\int_{0}^{\\infty} h_1(x)f_{X1}(x)\\, dx \n",
    "$$\n",
    "\n",
    "$$\\hat{I} = 1.9811 \\times \\frac{1}{N} \\sum\\limits_{i=1}^{N} h_1(X_i), \\quad X_i \\sim f_{X1}.$$\n",
    "\n",
    "Option 2:\n",
    "\n",
    "$$ g_2(x) = xe^{-x} $$\n",
    "\n",
    "$$ h_2(x) =  \\frac{x^3\\, \\sin\\left(\\sqrt{\\ln{(x+1)}}\\right)}{2+(x-4)^2} $$\n",
    "\n",
    "The pdf $f_{X2}(x)$ is the same as $g_2(x)$ as the normalising factor is 1. \n",
    "\n",
    "$$ f_{X2}(x) = xe^{-x} $$\n",
    "\n",
    "Therefore the integral becomes:\n",
    "\n",
    "$$ \n",
    "I= \\int_{0}^{\\infty} h_2(x)f_{X2}(x)\\, dx \n",
    "$$\n",
    "\n",
    "$$\\hat{I} = \\times \\frac{1}{N} \\sum\\limits_{i=1}^{N} h_2(X_i), \\quad X_i \\sim f_{X2}.$$\n"
   ]
  },
  {
   "cell_type": "code",
   "execution_count": 134,
   "metadata": {
    "collapsed": true
   },
   "outputs": [],
   "source": [
    "def metropolis(p, qdraw, nsamp, xinit):\n",
    "    total_acceptance = 0\n",
    "    samples=np.empty(nsamp)\n",
    "    x_prev = xinit\n",
    "    for i in range(nsamp):\n",
    "        x_star = qdraw(x_prev)\n",
    "        p_star = p(x_star)\n",
    "        p_prev = p(x_prev)\n",
    "        pdfratio = p_star/p_prev\n",
    "        if np.random.uniform() < min(1, pdfratio):\n",
    "            samples[i] = x_star\n",
    "            x_prev = x_star\n",
    "        else:#we always get a sample\n",
    "            samples[i]= x_prev\n",
    "            total_acceptance += 1\n",
    "            \n",
    "    return samples,total_acceptance"
   ]
  },
  {
   "cell_type": "code",
   "execution_count": 135,
   "metadata": {
    "collapsed": true
   },
   "outputs": [],
   "source": [
    "### look at correlation and thinning \n",
    "def corrplot(trace, maxlags=50):\n",
    "    plt.acorr(trace-np.mean(trace),  normed=True, maxlags=maxlags);\n",
    "    plt.xlim([0, maxlags])"
   ]
  },
  {
   "cell_type": "markdown",
   "metadata": {},
   "source": [
    "## Option 1"
   ]
  },
  {
   "cell_type": "code",
   "execution_count": 136,
   "metadata": {
    "collapsed": false
   },
   "outputs": [
    {
     "name": "stdout",
     "output_type": "stream",
     "text": [
      "1.9811404859066946\n"
     ]
    }
   ],
   "source": [
    "# define distributions \n",
    "\n",
    "g_1 = lambda x: (1/(2 + (x-4)**2))\n",
    "\n",
    "print(integrate.quad(fx1, 0, np.inf)[0]) #Need to normalize\n",
    "norm = integrate.quad(fx1, 0, np.inf)[0]\n",
    "\n",
    "f_1 = lambda x: g_1(x)/norm\n",
    "h_1 = lambda x: (x**4)*np.sin(np.sqrt(np.log(x+1)))*np.exp(-x)"
   ]
  },
  {
   "cell_type": "code",
   "execution_count": 137,
   "metadata": {
    "collapsed": false
   },
   "outputs": [
    {
     "data": {
      "text/plain": [
       "<matplotlib.text.Text at 0x11b55a978>"
      ]
     },
     "execution_count": 137,
     "metadata": {},
     "output_type": "execute_result"
    },
    {
     "data": {
      "image/png": "[encoded data removed]",
      "text/plain": [
       "<matplotlib.figure.Figure at 0x11b334e80>"
      ]
     },
     "metadata": {},
     "output_type": "display_data"
    }
   ],
   "source": [
    "## view h(x) and g(x)\n",
    "plt.figure(figsize=(20,10))\n",
    "xxx= np.linspace(0,10,100)\n",
    "plt.subplot(221)\n",
    "plt.plot(xxx, f_1(xxx), 'r')\n",
    "plt.title('f(x)')\n",
    "plt.subplot(222)\n",
    "plt.plot(xxx, h_1(xxx), 'b')\n",
    "plt.title('h(x)')"
   ]
  },
  {
   "cell_type": "code",
   "execution_count": 138,
   "metadata": {
    "collapsed": false
   },
   "outputs": [],
   "source": [
    "x0=np.random.uniform()\n",
    "n_samples = 1000000\n",
    "samps_normprop, acceptance = metropolis(f_1, norm_prop, n_samples, x0)"
   ]
  },
  {
   "cell_type": "code",
   "execution_count": 139,
   "metadata": {
    "collapsed": false
   },
   "outputs": [
    {
     "name": "stdout",
     "output_type": "stream",
     "text": [
      "number of samples greater than 0 : 889378\n",
      "% thrown away  11.0622\n"
     ]
    }
   ],
   "source": [
    "# reject all samples below 0 as the integral is from 0 to infinity:\n",
    "samps_normprop_pos = np.asarray([s for s in samps_normprop if s >0 ])\n",
    "\n",
    "print('number of samples greater than 0 :', len(samps_normprop_pos))\n",
    "print('% thrown away ', (len(samps_normprop) - len(samps_normprop_pos))/len(samps_normprop)*100)"
   ]
  },
  {
   "cell_type": "code",
   "execution_count": 140,
   "metadata": {
    "collapsed": false
   },
   "outputs": [
    {
     "data": {
      "text/plain": [
       "<matplotlib.legend.Legend at 0x11cb19898>"
      ]
     },
     "execution_count": 140,
     "metadata": {},
     "output_type": "execute_result"
    },
    {
     "data": {
      "image/png": "[encoded data removed]",
      "text/plain": [
       "<matplotlib.figure.Figure at 0x11c8383c8>"
      ]
     },
     "metadata": {},
     "output_type": "display_data"
    }
   ],
   "source": [
    "burnin = 20000\n",
    "thin = 200\n",
    "samps_normprop_pos_thinned = samps_normprop_pos[burnin::thin]\n",
    "plt.figure(figsize=(10,5))\n",
    "plt.hist(samps_normprop_pos_thinned,bins=100, alpha=0.4, label=u'MCMC distribution (Normal Proposal)', normed=True) \n",
    "plt.plot(xxx, f_1(xxx), 'r', label='actual f(x)')\n",
    "plt.legend()"
   ]
  },
  {
   "cell_type": "code",
   "execution_count": 141,
   "metadata": {
    "collapsed": false
   },
   "outputs": [
    {
     "name": "stdout",
     "output_type": "stream",
     "text": [
      "Integral (normal proposal) 6.04409501392\n"
     ]
    }
   ],
   "source": [
    "## Evaluate integral \n",
    "I = (g_1_norm/len(samps_normprop_pos_thinned))*np.sum(h_1(samps_normprop_pos_thinned))\n",
    "print('Integral (normal proposal)', I)"
   ]
  },
  {
   "cell_type": "code",
   "execution_count": 142,
   "metadata": {
    "collapsed": false
   },
   "outputs": [],
   "source": [
    "num_simulations = 50\n",
    "num_points = 150000\n",
    "xinit = 0.0\n",
    "\n",
    "acceptance_list = []\n",
    "mean_list = []\n",
    "for i in range(num_simulations):\n",
    "    samples, total_acceptance = metropolis(f_1, norm_prop, num_points, xinit)\n",
    "    mean_list.append(np.nanmean(h1(samples)*norm))\n",
    "    acceptance_list.append(total_acceptance)"
   ]
  },
  {
   "cell_type": "code",
   "execution_count": 143,
   "metadata": {
    "collapsed": false
   },
   "outputs": [
    {
     "name": "stdout",
     "output_type": "stream",
     "text": [
      "Average number of points being accepted is  15902.22\n",
      "mean of I  6.08626501104\n",
      "variance of I  0.0582894696808\n"
     ]
    }
   ],
   "source": [
    "print(\"Average number of points being accepted is \" ,np.mean(acceptance_list))\n",
    "print(\"mean of I \", np.mean(mean_list))\n",
    "print(\"variance of I \", np.var(mean_list))"
   ]
  },
  {
   "cell_type": "markdown",
   "metadata": {},
   "source": [
    "## Option 2"
   ]
  },
  {
   "cell_type": "code",
   "execution_count": 144,
   "metadata": {
    "collapsed": true
   },
   "outputs": [],
   "source": [
    "## define distributions\n",
    "f_2 = lambda x: (x*np.exp(-x))\n",
    "h_2 = lambda x: ((x**3)*np.sin(np.sqrt(np.log(x+1))))/(2 + (x-4)**2)"
   ]
  },
  {
   "cell_type": "code",
   "execution_count": 145,
   "metadata": {
    "collapsed": false
   },
   "outputs": [
    {
     "data": {
      "text/plain": [
       "<matplotlib.text.Text at 0x11db2a0b8>"
      ]
     },
     "execution_count": 145,
     "metadata": {},
     "output_type": "execute_result"
    },
    {
     "data": {
      "image/png": "[encoded data removed]",
      "text/plain": [
       "<matplotlib.figure.Figure at 0x11cb51e10>"
      ]
     },
     "metadata": {},
     "output_type": "display_data"
    }
   ],
   "source": [
    "## view h(x) and g(x)\n",
    "plt.figure(figsize=(20,10))\n",
    "xxx= np.linspace(0,10,100)\n",
    "plt.subplot(221)\n",
    "plt.plot(xxx, f_2(xxx), 'r')\n",
    "plt.title('f(x)')\n",
    "plt.subplot(222)\n",
    "plt.plot(xxx, h_2(xxx), 'b')\n",
    "plt.title('h(x)')"
   ]
  },
  {
   "cell_type": "code",
   "execution_count": 146,
   "metadata": {
    "collapsed": false
   },
   "outputs": [
    {
     "name": "stdout",
     "output_type": "stream",
     "text": [
      "number of samples greater than 0 : 1000000\n",
      "% thrown away  0.0\n"
     ]
    }
   ],
   "source": [
    "x0=np.random.uniform()\n",
    "n_samples = 1000000\n",
    "def normprop2(x):\n",
    "    return np.random.normal(x, 0.5) \n",
    "samps_normprop2, acceptances_2 = metropolis(f_2, normprop2, n_samples, x0)\n",
    "\n",
    "# reject all samples below 0 as the integral is from 0 to infinity:\n",
    "samps_normprop_pos2 = np.asarray([s for s in samps_normprop2 if s >0 ])\n",
    "\n",
    "print('number of samples greater than 0 :', len(samps_normprop_pos2))\n",
    "print('% thrown away ', (len(samps_normprop2) - len(samps_normprop_pos2))/len(samps_normprop2)*100)"
   ]
  },
  {
   "cell_type": "code",
   "execution_count": 147,
   "metadata": {
    "collapsed": false
   },
   "outputs": [
    {
     "data": {
      "text/plain": [
       "<matplotlib.legend.Legend at 0x119b7a748>"
      ]
     },
     "execution_count": 147,
     "metadata": {},
     "output_type": "execute_result"
    },
    {
     "data": {
      "image/png": "[encoded data removed]",
      "text/plain": [
       "<matplotlib.figure.Figure at 0x11d27e240>"
      ]
     },
     "metadata": {},
     "output_type": "display_data"
    }
   ],
   "source": [
    "burnin = 20000\n",
    "thin = 200\n",
    "samps_normprop_pos_thinned2 = samps_normprop_pos2[burnin::thin]\n",
    "plt.figure(figsize=(20,10))\n",
    "plt.subplot(221)\n",
    "plt.hist(samps_normprop_pos_thinned2,bins=100, alpha=0.4, label=u'MCMC distribution (Normal Proposal)', normed=True) \n",
    "plt.plot(xxx, f_2(xxx), 'r', label='actual f(x)')\n",
    "plt.legend()"
   ]
  },
  {
   "cell_type": "code",
   "execution_count": 148,
   "metadata": {
    "collapsed": false
   },
   "outputs": [],
   "source": [
    "simulations = 50\n",
    "points = 150000\n",
    "xinit = 0.0\n",
    "\n",
    "acceptance_list = []\n",
    "mean_list = []\n",
    "for i in range(simulations):\n",
    "    samples, total_acceptance = metropolis(f_2, prop, points, xinit)\n",
    "    mean_list.append(np.nanmean(h_2(samples)))\n",
    "    acceptance_list.append(total_acceptance)"
   ]
  },
  {
   "cell_type": "code",
   "execution_count": 149,
   "metadata": {
    "collapsed": false
   },
   "outputs": [
    {
     "name": "stdout",
     "output_type": "stream",
     "text": [
      "Average number of points being accepted is  40884.78\n",
      "mean of I  6.02772286669\n",
      "variance of I  0.0176286692112\n"
     ]
    }
   ],
   "source": [
    "print(\"Average number of points being accepted is \" ,np.mean(acceptance_list))\n",
    "print(\"mean of I \", np.mean(mean_list))\n",
    "print(\"variance of I \", np.var(mean_list))"
   ]
  },
  {
   "cell_type": "markdown",
   "metadata": {},
   "source": [
    "## Which choice of f is better?\n",
    "\n",
    "Comparing the two splits, the integral calculated using $f_{X2}$ has resulted in an estimate with lower variance compared with $f_{X1}$ (reduction of over 50%). A much larger number of samples are accepted when sampled from $f_{X2}$ compared to $f_{X1}$. \n",
    "\n",
    "Although the proposal $f_1(x)$ has a peak at the peak of $h_1(x)$, there is a lot of weight in the tails of $f_1(x)$ on the positive support. This results in many samples being drawn in the region where $h_1(x)$ does not have large density and results in increased variance in the estimate of the integral. \n",
    "\n",
    "In the second split, $f_2(x)$ decays quickly to 0 and has high mass in the region where $h_2(x)$ is changing most rapidly and hence more samples are drawn in the important region of $h_2(x)$. This results in decreased variance. "
   ]
  },
  {
   "cell_type": "markdown",
   "metadata": {},
   "source": [
    "## Problem 2: Metropolis Algorithm\n",
    "\n",
    "Suppose we ask you to memorize the order of the top five movies on IMDB. When we quiz you on the order afterwards, you might not recall the correct order, but the mistakes you will tend to make in your recall can be modeled by simple probabilistic models.\n",
    "  \n",
    "Let's say that the top five movies are:  \n",
    "1. *The Shawshank Redemption*\n",
    "2. *The Godfather*\n",
    "3. *The Godfather: Part II*\n",
    "4. *The Dark Knight*\n",
    "5. *Pulp Fiction*\n",
    "\n",
    "Let's represent this ordering by the vector $\\omega = (1,2,3,4,5)$. \n",
    "\n",
    "If you were to mistakenly recall the top five movies as:\n",
    "2. *The Godfather*\n",
    "3. *The Godfather: Part II*\n",
    "5. *Pulp Fiction*\n",
    "4. *The Dark Knight*\n",
    "1. *The Shawshank Redemption*\n",
    "\n",
    "We'd represent your answer by the vector $\\theta = (2,3,5,4,1)$.\n",
    "\n",
    "Now, we have a way of quantifying how wrong your answer can be. We define the Hamming distance between two top five rankings, $\\theta, \\omega$, as follows:\n",
    "$$d(\\theta, \\omega) = \\sum_{i=1}^5 \\mathbb{I}_{\\theta_i\\neq \\omega_i},$$ \n",
    "where $\\mathbb{I}_{\\theta_i\\neq \\omega_i}$ is the indicator function that returns 1 if $\\theta_i\\neq \\omega_i$, and 0 otherwise.\n",
    "\n",
    "For example, the Hamming distance between your answer and the correct answer is $d(\\theta, \\omega)=4$, because you only ranked *The Dark Knight* is correctly. \n",
    "\n",
    "Finally, let's suppose that the probability of giving a particular answer (expressed as $\\theta$) is modeled as\n",
    "$$ p(\\theta \\,|\\, \\omega, \\lambda) \\propto  e^{-\\lambda\\, d(\\theta,\\, \\omega)}.$$\n",
    "\n",
    "### Part A:\n",
    "\n",
    "Implement an Metropolis algorithm to produce sample guesses from 500 individuals, with various $\\lambda$ values, $\\lambda=0.2, 0.5, 1.0$. What are the top five possible guesses?"
   ]
  },
  {
   "cell_type": "code",
   "execution_count": 105,
   "metadata": {
    "collapsed": false
   },
   "outputs": [],
   "source": [
    "w = [1,2,3,4,5]\n",
    "p = lambda t,l: np.exp(-l*np.sum(t != w))"
   ]
  },
  {
   "cell_type": "code",
   "execution_count": 106,
   "metadata": {
    "collapsed": true
   },
   "outputs": [],
   "source": [
    "# blockwise updating \n",
    "def metropolis_sampler(p, l, nsamp, xinit):\n",
    "    samples=np.empty((nsamp, 5))\n",
    "    x_prev = xinit\n",
    "    accepted=0\n",
    "    for i in range(nsamp):\n",
    "        x_star = np.copy(x_prev)\n",
    "        np.random.shuffle(x_star)\n",
    "        p_star = p(x_star,l)\n",
    "        p_prev = p(x_prev,l)\n",
    "        pdfratio = p_star/p_prev\n",
    "        if np.random.uniform() < min(1, pdfratio):\n",
    "            samples[i] = x_star\n",
    "            x_prev = x_star\n",
    "            accepted +=1\n",
    "        #we always get a sample\n",
    "        else:\n",
    "            samples[i]= x_prev\n",
    "            \n",
    "    return samples, accepted"
   ]
  },
  {
   "cell_type": "code",
   "execution_count": 107,
   "metadata": {
    "collapsed": true
   },
   "outputs": [],
   "source": [
    "import collections, operator\n",
    "def count_unique(A):\n",
    "    d = collections.OrderedDict()\n",
    "    for a in A:\n",
    "        t = tuple(a)\n",
    "        if t in d:\n",
    "            d[t] += 1\n",
    "        else:\n",
    "            d[t] = 1\n",
    "    sorted_counts = sorted(d.items(), key=operator.itemgetter(1))\n",
    "    return sorted_counts"
   ]
  },
  {
   "cell_type": "code",
   "execution_count": 108,
   "metadata": {
    "collapsed": false
   },
   "outputs": [],
   "source": [
    "xinit = np.array([2,3,5,4,1])"
   ]
  },
  {
   "cell_type": "markdown",
   "metadata": {},
   "source": [
    "### Run the sampler for 70000 iterations, discarding 20,000 for burnin and thinning the rest every 100 samples"
   ]
  },
  {
   "cell_type": "code",
   "execution_count": 110,
   "metadata": {
    "collapsed": false
   },
   "outputs": [
    {
     "data": {
      "image/png": "[encoded data removed]",
      "text/plain": [
       "<matplotlib.figure.Figure at 0x11cc229e8>"
      ]
     },
     "metadata": {},
     "output_type": "display_data"
    }
   ],
   "source": [
    "plt.figure(figsize=(20,10))\n",
    "plt.subplot(221)\n",
    "\n",
    "lmbda = 0.2\n",
    "samps_02, accepted_02 = metropolis_sampler(p, lmbda, 70000, xinit)\n",
    "samples_prob = [p(theta, lmbda) for theta in samps_02]\n",
    "corrplot(samples_prob)\n",
    "\n",
    "# thin and remove burnin \n",
    "plt.subplot(222)\n",
    "thin=100\n",
    "burnin = 20000\n",
    "samples_prob_thinned = samples_prob[burnin::thin]\n",
    "corrplot(samples_prob_thinned)\n",
    "plt.title('after removing burning and thinning')\n",
    "#thin the samples \n",
    "samps_02_thinned = samps_02[burnin::thin]"
   ]
  },
  {
   "cell_type": "code",
   "execution_count": 111,
   "metadata": {
    "collapsed": false
   },
   "outputs": [
    {
     "data": {
      "image/png": "[encoded data removed]",
      "text/plain": [
       "<matplotlib.figure.Figure at 0x11c8eca90>"
      ]
     },
     "metadata": {},
     "output_type": "display_data"
    }
   ],
   "source": [
    "plt.figure(figsize=(20,10))\n",
    "plt.subplot(221)\n",
    "\n",
    "lmbda = 0.5\n",
    "samps_05, accepted_05 = metropolis_sampler(p, lmbda, 70000, xinit)\n",
    "samples_prob = [p(theta, lmbda) for theta in samps_05]\n",
    "corrplot(samples_prob)\n",
    "\n",
    "# thin and remove burnin \n",
    "plt.subplot(222)\n",
    "thin=100\n",
    "burnin = 20000\n",
    "samples_prob_thinned = samples_prob[burnin::thin]\n",
    "corrplot(samples_prob_thinned)\n",
    "plt.title('after removing burning and thinning')\n",
    "#thin the samples \n",
    "samps_05_thinned = samps_05[burnin::thin]"
   ]
  },
  {
   "cell_type": "code",
   "execution_count": 112,
   "metadata": {
    "collapsed": false
   },
   "outputs": [
    {
     "data": {
      "image/png": "[encoded data removed]",
      "text/plain": [
       "<matplotlib.figure.Figure at 0x11aeb6f28>"
      ]
     },
     "metadata": {},
     "output_type": "display_data"
    }
   ],
   "source": [
    "plt.figure(figsize=(20,10))\n",
    "plt.subplot(221)\n",
    "\n",
    "lmbda = 1\n",
    "samps_10, accepted_10 = metropolis_sampler(p, lmbda, 70000, xinit)\n",
    "samples_prob = [p(theta, lmbda) for theta in samps_10]\n",
    "corrplot(samples_prob)\n",
    "\n",
    "# thin and remove burnin \n",
    "plt.subplot(222)\n",
    "thin=100\n",
    "burnin = 20000\n",
    "samples_prob_thinned = samples_prob[burnin::thin]\n",
    "corrplot(samples_prob_thinned)\n",
    "plt.title('after removing burning and thinning')\n",
    "#thin the samples \n",
    "samps_10_thinned = samps_10[burnin::thin]"
   ]
  },
  {
   "cell_type": "code",
   "execution_count": 113,
   "metadata": {
    "collapsed": false
   },
   "outputs": [],
   "source": [
    "l_02 = count_unique(samps_02_thinned)\n",
    "l_05 = count_unique(samps_05_thinned)\n",
    "l_10 = count_unique(samps_10_thinned)"
   ]
  },
  {
   "cell_type": "code",
   "execution_count": 115,
   "metadata": {
    "collapsed": false
   },
   "outputs": [
    {
     "name": "stdout",
     "output_type": "stream",
     "text": [
      "lambda = 0.2\n",
      "\n"
     ]
    },
    {
     "data": {
      "text/plain": [
       "[((1.0, 2.0, 3.0, 5.0, 4.0), 11),\n",
       " ((1.0, 2.0, 5.0, 3.0, 4.0), 10),\n",
       " ((5.0, 2.0, 3.0, 4.0, 1.0), 9),\n",
       " ((3.0, 2.0, 1.0, 5.0, 4.0), 9),\n",
       " ((2.0, 1.0, 3.0, 5.0, 4.0), 8)]"
      ]
     },
     "execution_count": 115,
     "metadata": {},
     "output_type": "execute_result"
    }
   ],
   "source": [
    "print(\"lambda = 0.2\\n\")\n",
    "[row for row in l_02[-5:]][::-1]"
   ]
  },
  {
   "cell_type": "code",
   "execution_count": 116,
   "metadata": {
    "collapsed": false
   },
   "outputs": [
    {
     "name": "stdout",
     "output_type": "stream",
     "text": [
      "lambda = 0.5\n",
      "\n"
     ]
    },
    {
     "data": {
      "text/plain": [
       "[((1.0, 2.0, 3.0, 4.0, 5.0), 27),\n",
       " ((1.0, 2.0, 4.0, 3.0, 5.0), 15),\n",
       " ((3.0, 2.0, 1.0, 4.0, 5.0), 12),\n",
       " ((1.0, 3.0, 2.0, 4.0, 5.0), 11),\n",
       " ((1.0, 5.0, 2.0, 4.0, 3.0), 11)]"
      ]
     },
     "execution_count": 116,
     "metadata": {},
     "output_type": "execute_result"
    }
   ],
   "source": [
    "print(\"lambda = 0.5\\n\")\n",
    "[row for row in l_05[-5:]][::-1]"
   ]
  },
  {
   "cell_type": "code",
   "execution_count": 117,
   "metadata": {
    "collapsed": false
   },
   "outputs": [
    {
     "name": "stdout",
     "output_type": "stream",
     "text": [
      "lambda = 1.0\n",
      "\n"
     ]
    },
    {
     "data": {
      "text/plain": [
       "[((1.0, 2.0, 3.0, 4.0, 5.0), 97),\n",
       " ((1.0, 4.0, 3.0, 2.0, 5.0), 21),\n",
       " ((1.0, 2.0, 5.0, 4.0, 3.0), 18),\n",
       " ((2.0, 1.0, 3.0, 4.0, 5.0), 18),\n",
       " ((1.0, 5.0, 3.0, 4.0, 2.0), 15)]"
      ]
     },
     "execution_count": 117,
     "metadata": {},
     "output_type": "execute_result"
    }
   ],
   "source": [
    "print(\"lambda = 1.0\\n\")\n",
    "[row for row in l_10[-5:]][::-1]"
   ]
  },
  {
   "cell_type": "markdown",
   "metadata": {},
   "source": [
    "## Observations:\n",
    "\n",
    "As the value of lambda increases, a much larger number of guesses are the correct guess. This is because larger lambda reduces the value of the posterior when there are a large number of incorrect guesses. If the new value of x, x_star, has a larger number of incorrect guesses than x_prev, the pdfratio will be smaller than 1 and so x_star will be less likely to be accepted and x_prev will be saved as the sample for that particular iteration. "
   ]
  },
  {
   "cell_type": "markdown",
   "metadata": {},
   "source": [
    "### Part B:\n",
    "Compute the probability that *The Shawshank Redemption* is ranked as the top movie (ranked number 1) by the Metropolis algorithm sampler. Compare the resulting probabilities for the various different $\\lambda$ values. Summarize your findings."
   ]
  },
  {
   "cell_type": "code",
   "execution_count": 118,
   "metadata": {
    "collapsed": true
   },
   "outputs": [],
   "source": [
    "def count_prob(A, index, val):\n",
    "    count = 0\n",
    "    for a in A:\n",
    "        if a[index] == val:\n",
    "            count += 1\n",
    "    return count"
   ]
  },
  {
   "cell_type": "code",
   "execution_count": 119,
   "metadata": {
    "collapsed": true
   },
   "outputs": [],
   "source": [
    "def count_correct(unique_list, match):\n",
    "    for l in unique_list:\n",
    "        if l[0] == match:\n",
    "            return l[1]"
   ]
  },
  {
   "cell_type": "code",
   "execution_count": 125,
   "metadata": {
    "collapsed": false
   },
   "outputs": [],
   "source": [
    "l_02_prob = (count_prob(samps_02_thinned, 0, 1)/500)\n",
    "l_05_prob = (count_prob(samps_05_thinned, 0, 1)/500)\n",
    "l_10_prob = (count_prob(samps_10_thinned, 0, 1)/500)"
   ]
  },
  {
   "cell_type": "code",
   "execution_count": 129,
   "metadata": {
    "collapsed": false
   },
   "outputs": [
    {
     "name": "stdout",
     "output_type": "stream",
     "text": [
      "Probability that The Shawshank Redemption is ranked as the top movie\n",
      "Lambda = 0.2, probability =  25.8 %\n",
      "Lambda = 0.5, probability =  33.6 %\n",
      "Lambda = 1.0, probability =  52.0 %\n"
     ]
    }
   ],
   "source": [
    "print ('Probability that The Shawshank Redemption is ranked as the top movie')\n",
    "print('Lambda = 0.2, probability = ', l_02_prob*100, '%')\n",
    "print('Lambda = 0.5, probability = ', l_05_prob*100, '%')\n",
    "print('Lambda = 1.0, probability = ', l_10_prob*100, '%')"
   ]
  },
  {
   "cell_type": "code",
   "execution_count": 132,
   "metadata": {
    "collapsed": false
   },
   "outputs": [],
   "source": [
    "w_tup = tuple((1.0, 2.0, 3.0, 4.0, 5.0))\n",
    "l_02_prob_correct = count_correct(l_02, w_tup)/len(samps_02_thinned)\n",
    "l_05_prob_correct = count_correct(l_05, w_tup)/len(samps_05_thinned)\n",
    "l_10_prob_correct = count_correct(l_10, w_tup)/len(samps_10_thinned)"
   ]
  },
  {
   "cell_type": "code",
   "execution_count": 133,
   "metadata": {
    "collapsed": false
   },
   "outputs": [
    {
     "name": "stdout",
     "output_type": "stream",
     "text": [
      "Probability of all ratings being correct\n",
      "Lambda = 0.2, probability =  1.4000000000000001 %\n",
      "Lambda = 0.5, probability =  5.4 %\n",
      "Lambda = 1.0, probability =  19.400000000000002 %\n"
     ]
    }
   ],
   "source": [
    "print ('Probability of all ratings being correct')\n",
    "print('Lambda = 0.2, probability = ', l_02_prob_correct*100, '%')\n",
    "print('Lambda = 0.5, probability = ', l_05_prob_correct*100, '%')\n",
    "print('Lambda = 1.0, probability = ', l_10_prob_correct*100, '%')"
   ]
  },
  {
   "cell_type": "markdown",
   "metadata": {},
   "source": [
    "## Observations:\n",
    "\n",
    "As lambda increases, the number of fully correct guesses increases to 19%, with the first movie being correctly \n",
    "placed 52% of the time. \n",
    "\n",
    "The probability of theta (an incorrect guess) decreases with increasing lambda. If the new guess x_star is closer to the correct solution than x_prev, the pdfratio will be above 1 so you are bound to accept the new guess. For high lambda, if x_star is further from the correct guess than xprev, then the pdfratio will be very small so you are likely to reject the new guess. You will therefore have more examples where the ordering is close to the correct result (or the correct result itself). As The Shawshank Redemption is 1 in the original it is more likely to be in position 1 with increasing lambda. "
   ]
  }
 ],
 "metadata": {
  "anaconda-cloud": {},
  "kernelspec": {
   "display_name": "Python [python3]",
   "language": "python",
   "name": "Python [python3]"
  },
  "language_info": {
   "codemirror_mode": {
    "name": "ipython",
    "version": 3
   },
   "file_extension": ".py",
   "mimetype": "text/x-python",
   "name": "python",
   "nbconvert_exporter": "python",
   "pygments_lexer": "ipython3",
   "version": "3.6.0"
  }
 },
 "nbformat": 4,
 "nbformat_minor": 1
}
